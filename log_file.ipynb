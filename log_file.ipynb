{
 "cells": [
  {
   "cell_type": "code",
   "execution_count": 3,
   "outputs": [],
   "source": [
    "import pandas as pd"
   ],
   "metadata": {
    "collapsed": false
   }
  },
  {
   "cell_type": "code",
   "execution_count": 14,
   "outputs": [],
   "source": [
    "with open('log.csv','r') as f:\n",
    "    log = f.readlines()\n",
    "\n",
    "log_list = []\n",
    "for each in log:\n",
    "    field = each.strip().split(\"^\")\n",
    "    log_list.append(field)\n"
   ],
   "metadata": {
    "collapsed": false
   }
  },
  {
   "cell_type": "code",
   "execution_count": 16,
   "outputs": [],
   "source": [
    "df = pd.DataFrame(log_list)"
   ],
   "metadata": {
    "collapsed": false
   }
  },
  {
   "cell_type": "code",
   "execution_count": 17,
   "outputs": [
    {
     "data": {
      "text/plain": "                                               0                1   \\\n0                                       \"message\"             None   \n1      \"Feb 19 00:00:09 nginx001 activitycenter:    120.27.173.41    \n2      \"Feb 19 00:00:09 nginx001 activitycenter:    118.178.15.71    \n3      \"Feb 19 00:00:09 nginx001 activitycenter:    118.178.15.71    \n4      \"Feb 19 00:00:29 nginx001 activitycenter:    120.27.173.41    \n...                                           ...              ...   \n41090  \"Feb 19 23:59:45 nginx001 activitycenter:    120.27.173.49    \n41091  \"Feb 19 23:59:45 nginx001 activitycenter:   118.178.15.115    \n41092  \"Feb 19 23:59:45 nginx002 activitycenter:   118.178.15.105    \n41093  \"Feb 19 23:59:45 nginx001 activitycenter:    118.178.15.71    \n41094  \"Feb 19 23:59:55 nginx001 activitycenter:    118.178.15.72    \n\n                     2                 3     4                            5   \\\n0                  None              None  None                         None   \n1      223.104.147.158   223.104.147.158     -   19/Feb/2023:00:00:04 +0800    \n2       116.178.234.95    116.178.234.95     -   19/Feb/2023:00:00:03 +0800    \n3       116.178.234.95    116.178.234.95     -   19/Feb/2023:00:00:02 +0800    \n4          39.184.9.64       39.184.9.64     -   19/Feb/2023:00:00:27 +0800    \n...                 ...               ...   ...                          ...   \n41090   117.136.39.126    117.136.39.126     -   19/Feb/2023:23:59:40 +0800    \n41091   119.182.162.46    119.182.162.46     -   19/Feb/2023:23:59:40 +0800    \n41092   117.151.107.22    117.151.107.22     -   19/Feb/2023:23:59:42 +0800    \n41093   120.229.67.255    120.229.67.255     -   19/Feb/2023:23:59:44 +0800    \n41094     218.12.18.80      218.12.18.80     -   19/Feb/2023:23:59:49 +0800    \n\n                  6     7       8   \\\n0               None  None    None   \n1      db.yaozh.com   200   26403    \n2      db.yaozh.com   200   24738    \n3      db.yaozh.com   200   25703    \n4      db.yaozh.com   200   24160    \n...              ...   ...     ...   \n41090  db.yaozh.com   200   23151    \n41091  db.yaozh.com   200   24385    \n41092  db.yaozh.com   200   24445    \n41093  db.yaozh.com   200   48552    \n41094  db.yaozh.com   200   22239    \n\n                                                      9   ...      12    13  \\\n0                                                   None  ...    None  None   \n1      https://m.baidu.com/from=844b/bd_page_type=1/s...  ...  1.337   200    \n2                                  https://m.baidu.com/   ...  0.941   200    \n3                                  https://m.baidu.com/   ...  0.829   200    \n4                                  https://m.baidu.com/   ...  0.588   200    \n...                                                  ...  ...     ...   ...   \n41090                              https://m.baidu.com/   ...  0.572   200    \n41091                              https://m.baidu.com/   ...  1.220   200    \n41092  https://m.baidu.com/?eqid=9870787b56d156b11000...  ...  0.951   200    \n41093  https://m.baidu.com/?eqid=7792c82a33165d171000...  ...  0.994   200    \n41094                              https://m.baidu.com/   ...  0.390   200    \n\n                        14      15    16    17    18    19    20  \\\n0                     None    None  None  None  None  None  None   \n1      10.29.189.185:9989   1.304     -     -     -     -     -    \n2        10.81.44.54:9989   0.927     -     -     -     -     -    \n3       10.46.228.27:9989   0.811     -     -     -     -     -    \n4        10.81.44.54:9989   0.566     -     -     -     -     -    \n...                    ...     ...   ...   ...   ...   ...   ...   \n41090    10.81.44.54:9989   0.553     -     -     -     -     -    \n41091   10.46.228.27:9989   1.196     -     -     -     -     -    \n41092   10.81.44.201:9989   0.932     -     -     -     -     -    \n41093  10.29.189.185:9989   0.976     -     -     -     -     -    \n41094   10.81.44.201:9989   0.371     -     -     -     -     -    \n\n                                      21  \n0                                   None  \n1      02f4929483b8263dced57fe14b012473\"  \n2      99f86436dc45cddff8aa9ea8cac1fd5c\"  \n3      10a7384c5d43ccb33db6a7f62288250f\"  \n4      cc448df63d00ac9f721c6afef75d6c7e\"  \n...                                  ...  \n41090  e8088721a21c0db061a95b742ea16527\"  \n41091  0b28bc3d60ff41a3276613057efbfcb1\"  \n41092  9fd25471c3e4e924d9cc0be6ed88fbd5\"  \n41093  0b6fb9147e554074b5d7cf98a2e26886\"  \n41094  d4a0b22ba06de551b776c8f5926b9275\"  \n\n[41095 rows x 22 columns]",
      "text/html": "<div>\n<style scoped>\n    .dataframe tbody tr th:only-of-type {\n        vertical-align: middle;\n    }\n\n    .dataframe tbody tr th {\n        vertical-align: top;\n    }\n\n    .dataframe thead th {\n        text-align: right;\n    }\n</style>\n<table border=\"1\" class=\"dataframe\">\n  <thead>\n    <tr style=\"text-align: right;\">\n      <th></th>\n      <th>0</th>\n      <th>1</th>\n      <th>2</th>\n      <th>3</th>\n      <th>4</th>\n      <th>5</th>\n      <th>6</th>\n      <th>7</th>\n      <th>8</th>\n      <th>9</th>\n      <th>...</th>\n      <th>12</th>\n      <th>13</th>\n      <th>14</th>\n      <th>15</th>\n      <th>16</th>\n      <th>17</th>\n      <th>18</th>\n      <th>19</th>\n      <th>20</th>\n      <th>21</th>\n    </tr>\n  </thead>\n  <tbody>\n    <tr>\n      <th>0</th>\n      <td>\"message\"</td>\n      <td>None</td>\n      <td>None</td>\n      <td>None</td>\n      <td>None</td>\n      <td>None</td>\n      <td>None</td>\n      <td>None</td>\n      <td>None</td>\n      <td>None</td>\n      <td>...</td>\n      <td>None</td>\n      <td>None</td>\n      <td>None</td>\n      <td>None</td>\n      <td>None</td>\n      <td>None</td>\n      <td>None</td>\n      <td>None</td>\n      <td>None</td>\n      <td>None</td>\n    </tr>\n    <tr>\n      <th>1</th>\n      <td>\"Feb 19 00:00:09 nginx001 activitycenter:</td>\n      <td>120.27.173.41</td>\n      <td>223.104.147.158</td>\n      <td>223.104.147.158</td>\n      <td>-</td>\n      <td>19/Feb/2023:00:00:04 +0800</td>\n      <td>db.yaozh.com</td>\n      <td>200</td>\n      <td>26403</td>\n      <td>https://m.baidu.com/from=844b/bd_page_type=1/s...</td>\n      <td>...</td>\n      <td>1.337</td>\n      <td>200</td>\n      <td>10.29.189.185:9989</td>\n      <td>1.304</td>\n      <td>-</td>\n      <td>-</td>\n      <td>-</td>\n      <td>-</td>\n      <td>-</td>\n      <td>02f4929483b8263dced57fe14b012473\"</td>\n    </tr>\n    <tr>\n      <th>2</th>\n      <td>\"Feb 19 00:00:09 nginx001 activitycenter:</td>\n      <td>118.178.15.71</td>\n      <td>116.178.234.95</td>\n      <td>116.178.234.95</td>\n      <td>-</td>\n      <td>19/Feb/2023:00:00:03 +0800</td>\n      <td>db.yaozh.com</td>\n      <td>200</td>\n      <td>24738</td>\n      <td>https://m.baidu.com/</td>\n      <td>...</td>\n      <td>0.941</td>\n      <td>200</td>\n      <td>10.81.44.54:9989</td>\n      <td>0.927</td>\n      <td>-</td>\n      <td>-</td>\n      <td>-</td>\n      <td>-</td>\n      <td>-</td>\n      <td>99f86436dc45cddff8aa9ea8cac1fd5c\"</td>\n    </tr>\n    <tr>\n      <th>3</th>\n      <td>\"Feb 19 00:00:09 nginx001 activitycenter:</td>\n      <td>118.178.15.71</td>\n      <td>116.178.234.95</td>\n      <td>116.178.234.95</td>\n      <td>-</td>\n      <td>19/Feb/2023:00:00:02 +0800</td>\n      <td>db.yaozh.com</td>\n      <td>200</td>\n      <td>25703</td>\n      <td>https://m.baidu.com/</td>\n      <td>...</td>\n      <td>0.829</td>\n      <td>200</td>\n      <td>10.46.228.27:9989</td>\n      <td>0.811</td>\n      <td>-</td>\n      <td>-</td>\n      <td>-</td>\n      <td>-</td>\n      <td>-</td>\n      <td>10a7384c5d43ccb33db6a7f62288250f\"</td>\n    </tr>\n    <tr>\n      <th>4</th>\n      <td>\"Feb 19 00:00:29 nginx001 activitycenter:</td>\n      <td>120.27.173.41</td>\n      <td>39.184.9.64</td>\n      <td>39.184.9.64</td>\n      <td>-</td>\n      <td>19/Feb/2023:00:00:27 +0800</td>\n      <td>db.yaozh.com</td>\n      <td>200</td>\n      <td>24160</td>\n      <td>https://m.baidu.com/</td>\n      <td>...</td>\n      <td>0.588</td>\n      <td>200</td>\n      <td>10.81.44.54:9989</td>\n      <td>0.566</td>\n      <td>-</td>\n      <td>-</td>\n      <td>-</td>\n      <td>-</td>\n      <td>-</td>\n      <td>cc448df63d00ac9f721c6afef75d6c7e\"</td>\n    </tr>\n    <tr>\n      <th>...</th>\n      <td>...</td>\n      <td>...</td>\n      <td>...</td>\n      <td>...</td>\n      <td>...</td>\n      <td>...</td>\n      <td>...</td>\n      <td>...</td>\n      <td>...</td>\n      <td>...</td>\n      <td>...</td>\n      <td>...</td>\n      <td>...</td>\n      <td>...</td>\n      <td>...</td>\n      <td>...</td>\n      <td>...</td>\n      <td>...</td>\n      <td>...</td>\n      <td>...</td>\n      <td>...</td>\n    </tr>\n    <tr>\n      <th>41090</th>\n      <td>\"Feb 19 23:59:45 nginx001 activitycenter:</td>\n      <td>120.27.173.49</td>\n      <td>117.136.39.126</td>\n      <td>117.136.39.126</td>\n      <td>-</td>\n      <td>19/Feb/2023:23:59:40 +0800</td>\n      <td>db.yaozh.com</td>\n      <td>200</td>\n      <td>23151</td>\n      <td>https://m.baidu.com/</td>\n      <td>...</td>\n      <td>0.572</td>\n      <td>200</td>\n      <td>10.81.44.54:9989</td>\n      <td>0.553</td>\n      <td>-</td>\n      <td>-</td>\n      <td>-</td>\n      <td>-</td>\n      <td>-</td>\n      <td>e8088721a21c0db061a95b742ea16527\"</td>\n    </tr>\n    <tr>\n      <th>41091</th>\n      <td>\"Feb 19 23:59:45 nginx001 activitycenter:</td>\n      <td>118.178.15.115</td>\n      <td>119.182.162.46</td>\n      <td>119.182.162.46</td>\n      <td>-</td>\n      <td>19/Feb/2023:23:59:40 +0800</td>\n      <td>db.yaozh.com</td>\n      <td>200</td>\n      <td>24385</td>\n      <td>https://m.baidu.com/</td>\n      <td>...</td>\n      <td>1.220</td>\n      <td>200</td>\n      <td>10.46.228.27:9989</td>\n      <td>1.196</td>\n      <td>-</td>\n      <td>-</td>\n      <td>-</td>\n      <td>-</td>\n      <td>-</td>\n      <td>0b28bc3d60ff41a3276613057efbfcb1\"</td>\n    </tr>\n    <tr>\n      <th>41092</th>\n      <td>\"Feb 19 23:59:45 nginx002 activitycenter:</td>\n      <td>118.178.15.105</td>\n      <td>117.151.107.22</td>\n      <td>117.151.107.22</td>\n      <td>-</td>\n      <td>19/Feb/2023:23:59:42 +0800</td>\n      <td>db.yaozh.com</td>\n      <td>200</td>\n      <td>24445</td>\n      <td>https://m.baidu.com/?eqid=9870787b56d156b11000...</td>\n      <td>...</td>\n      <td>0.951</td>\n      <td>200</td>\n      <td>10.81.44.201:9989</td>\n      <td>0.932</td>\n      <td>-</td>\n      <td>-</td>\n      <td>-</td>\n      <td>-</td>\n      <td>-</td>\n      <td>9fd25471c3e4e924d9cc0be6ed88fbd5\"</td>\n    </tr>\n    <tr>\n      <th>41093</th>\n      <td>\"Feb 19 23:59:45 nginx001 activitycenter:</td>\n      <td>118.178.15.71</td>\n      <td>120.229.67.255</td>\n      <td>120.229.67.255</td>\n      <td>-</td>\n      <td>19/Feb/2023:23:59:44 +0800</td>\n      <td>db.yaozh.com</td>\n      <td>200</td>\n      <td>48552</td>\n      <td>https://m.baidu.com/?eqid=7792c82a33165d171000...</td>\n      <td>...</td>\n      <td>0.994</td>\n      <td>200</td>\n      <td>10.29.189.185:9989</td>\n      <td>0.976</td>\n      <td>-</td>\n      <td>-</td>\n      <td>-</td>\n      <td>-</td>\n      <td>-</td>\n      <td>0b6fb9147e554074b5d7cf98a2e26886\"</td>\n    </tr>\n    <tr>\n      <th>41094</th>\n      <td>\"Feb 19 23:59:55 nginx001 activitycenter:</td>\n      <td>118.178.15.72</td>\n      <td>218.12.18.80</td>\n      <td>218.12.18.80</td>\n      <td>-</td>\n      <td>19/Feb/2023:23:59:49 +0800</td>\n      <td>db.yaozh.com</td>\n      <td>200</td>\n      <td>22239</td>\n      <td>https://m.baidu.com/</td>\n      <td>...</td>\n      <td>0.390</td>\n      <td>200</td>\n      <td>10.81.44.201:9989</td>\n      <td>0.371</td>\n      <td>-</td>\n      <td>-</td>\n      <td>-</td>\n      <td>-</td>\n      <td>-</td>\n      <td>d4a0b22ba06de551b776c8f5926b9275\"</td>\n    </tr>\n  </tbody>\n</table>\n<p>41095 rows × 22 columns</p>\n</div>"
     },
     "execution_count": 17,
     "metadata": {},
     "output_type": "execute_result"
    }
   ],
   "source": [
    "df"
   ],
   "metadata": {
    "collapsed": false
   }
  },
  {
   "cell_type": "code",
   "execution_count": 18,
   "outputs": [
    {
     "data": {
      "text/plain": "                                               0                1   \\\n1      \"Feb 19 00:00:09 nginx001 activitycenter:    120.27.173.41    \n2      \"Feb 19 00:00:09 nginx001 activitycenter:    118.178.15.71    \n3      \"Feb 19 00:00:09 nginx001 activitycenter:    118.178.15.71    \n4      \"Feb 19 00:00:29 nginx001 activitycenter:    120.27.173.41    \n5      \"Feb 19 00:00:29 nginx002 activitycenter:    118.178.15.70    \n...                                           ...              ...   \n41090  \"Feb 19 23:59:45 nginx001 activitycenter:    120.27.173.49    \n41091  \"Feb 19 23:59:45 nginx001 activitycenter:   118.178.15.115    \n41092  \"Feb 19 23:59:45 nginx002 activitycenter:   118.178.15.105    \n41093  \"Feb 19 23:59:45 nginx001 activitycenter:    118.178.15.71    \n41094  \"Feb 19 23:59:55 nginx001 activitycenter:    118.178.15.72    \n\n                     2                 3   4                            5   \\\n1      223.104.147.158   223.104.147.158   -   19/Feb/2023:00:00:04 +0800    \n2       116.178.234.95    116.178.234.95   -   19/Feb/2023:00:00:03 +0800    \n3       116.178.234.95    116.178.234.95   -   19/Feb/2023:00:00:02 +0800    \n4          39.184.9.64       39.184.9.64   -   19/Feb/2023:00:00:27 +0800    \n5        124.227.52.28     124.227.52.28   -   19/Feb/2023:00:00:20 +0800    \n...                 ...               ...  ..                          ...   \n41090   117.136.39.126    117.136.39.126   -   19/Feb/2023:23:59:40 +0800    \n41091   119.182.162.46    119.182.162.46   -   19/Feb/2023:23:59:40 +0800    \n41092   117.151.107.22    117.151.107.22   -   19/Feb/2023:23:59:42 +0800    \n41093   120.229.67.255    120.229.67.255   -   19/Feb/2023:23:59:44 +0800    \n41094     218.12.18.80      218.12.18.80   -   19/Feb/2023:23:59:49 +0800    \n\n                  6     7       8   \\\n1      db.yaozh.com   200   26403    \n2      db.yaozh.com   200   24738    \n3      db.yaozh.com   200   25703    \n4      db.yaozh.com   200   24160    \n5      db.yaozh.com   200   25337    \n...              ...   ...     ...   \n41090  db.yaozh.com   200   23151    \n41091  db.yaozh.com   200   24385    \n41092  db.yaozh.com   200   24445    \n41093  db.yaozh.com   200   48552    \n41094  db.yaozh.com   200   22239    \n\n                                                      9   ...      12    13  \\\n1      https://m.baidu.com/from=844b/bd_page_type=1/s...  ...  1.337   200    \n2                                  https://m.baidu.com/   ...  0.941   200    \n3                                  https://m.baidu.com/   ...  0.829   200    \n4                                  https://m.baidu.com/   ...  0.588   200    \n5                                  https://m.baidu.com/   ...  1.095   200    \n...                                                  ...  ...     ...   ...   \n41090                              https://m.baidu.com/   ...  0.572   200    \n41091                              https://m.baidu.com/   ...  1.220   200    \n41092  https://m.baidu.com/?eqid=9870787b56d156b11000...  ...  0.951   200    \n41093  https://m.baidu.com/?eqid=7792c82a33165d171000...  ...  0.994   200    \n41094                              https://m.baidu.com/   ...  0.390   200    \n\n                        14      15  16  17  18  19  20  \\\n1      10.29.189.185:9989   1.304   -   -   -   -   -    \n2        10.81.44.54:9989   0.927   -   -   -   -   -    \n3       10.46.228.27:9989   0.811   -   -   -   -   -    \n4        10.81.44.54:9989   0.566   -   -   -   -   -    \n5      10.29.189.185:9989   1.076   -   -   -   -   -    \n...                    ...     ...  ..  ..  ..  ..  ..   \n41090    10.81.44.54:9989   0.553   -   -   -   -   -    \n41091   10.46.228.27:9989   1.196   -   -   -   -   -    \n41092   10.81.44.201:9989   0.932   -   -   -   -   -    \n41093  10.29.189.185:9989   0.976   -   -   -   -   -    \n41094   10.81.44.201:9989   0.371   -   -   -   -   -    \n\n                                      21  \n1      02f4929483b8263dced57fe14b012473\"  \n2      99f86436dc45cddff8aa9ea8cac1fd5c\"  \n3      10a7384c5d43ccb33db6a7f62288250f\"  \n4      cc448df63d00ac9f721c6afef75d6c7e\"  \n5      0c70db2f9fc5c840cd9a2e4d65943c59\"  \n...                                  ...  \n41090  e8088721a21c0db061a95b742ea16527\"  \n41091  0b28bc3d60ff41a3276613057efbfcb1\"  \n41092  9fd25471c3e4e924d9cc0be6ed88fbd5\"  \n41093  0b6fb9147e554074b5d7cf98a2e26886\"  \n41094  d4a0b22ba06de551b776c8f5926b9275\"  \n\n[41094 rows x 22 columns]",
      "text/html": "<div>\n<style scoped>\n    .dataframe tbody tr th:only-of-type {\n        vertical-align: middle;\n    }\n\n    .dataframe tbody tr th {\n        vertical-align: top;\n    }\n\n    .dataframe thead th {\n        text-align: right;\n    }\n</style>\n<table border=\"1\" class=\"dataframe\">\n  <thead>\n    <tr style=\"text-align: right;\">\n      <th></th>\n      <th>0</th>\n      <th>1</th>\n      <th>2</th>\n      <th>3</th>\n      <th>4</th>\n      <th>5</th>\n      <th>6</th>\n      <th>7</th>\n      <th>8</th>\n      <th>9</th>\n      <th>...</th>\n      <th>12</th>\n      <th>13</th>\n      <th>14</th>\n      <th>15</th>\n      <th>16</th>\n      <th>17</th>\n      <th>18</th>\n      <th>19</th>\n      <th>20</th>\n      <th>21</th>\n    </tr>\n  </thead>\n  <tbody>\n    <tr>\n      <th>1</th>\n      <td>\"Feb 19 00:00:09 nginx001 activitycenter:</td>\n      <td>120.27.173.41</td>\n      <td>223.104.147.158</td>\n      <td>223.104.147.158</td>\n      <td>-</td>\n      <td>19/Feb/2023:00:00:04 +0800</td>\n      <td>db.yaozh.com</td>\n      <td>200</td>\n      <td>26403</td>\n      <td>https://m.baidu.com/from=844b/bd_page_type=1/s...</td>\n      <td>...</td>\n      <td>1.337</td>\n      <td>200</td>\n      <td>10.29.189.185:9989</td>\n      <td>1.304</td>\n      <td>-</td>\n      <td>-</td>\n      <td>-</td>\n      <td>-</td>\n      <td>-</td>\n      <td>02f4929483b8263dced57fe14b012473\"</td>\n    </tr>\n    <tr>\n      <th>2</th>\n      <td>\"Feb 19 00:00:09 nginx001 activitycenter:</td>\n      <td>118.178.15.71</td>\n      <td>116.178.234.95</td>\n      <td>116.178.234.95</td>\n      <td>-</td>\n      <td>19/Feb/2023:00:00:03 +0800</td>\n      <td>db.yaozh.com</td>\n      <td>200</td>\n      <td>24738</td>\n      <td>https://m.baidu.com/</td>\n      <td>...</td>\n      <td>0.941</td>\n      <td>200</td>\n      <td>10.81.44.54:9989</td>\n      <td>0.927</td>\n      <td>-</td>\n      <td>-</td>\n      <td>-</td>\n      <td>-</td>\n      <td>-</td>\n      <td>99f86436dc45cddff8aa9ea8cac1fd5c\"</td>\n    </tr>\n    <tr>\n      <th>3</th>\n      <td>\"Feb 19 00:00:09 nginx001 activitycenter:</td>\n      <td>118.178.15.71</td>\n      <td>116.178.234.95</td>\n      <td>116.178.234.95</td>\n      <td>-</td>\n      <td>19/Feb/2023:00:00:02 +0800</td>\n      <td>db.yaozh.com</td>\n      <td>200</td>\n      <td>25703</td>\n      <td>https://m.baidu.com/</td>\n      <td>...</td>\n      <td>0.829</td>\n      <td>200</td>\n      <td>10.46.228.27:9989</td>\n      <td>0.811</td>\n      <td>-</td>\n      <td>-</td>\n      <td>-</td>\n      <td>-</td>\n      <td>-</td>\n      <td>10a7384c5d43ccb33db6a7f62288250f\"</td>\n    </tr>\n    <tr>\n      <th>4</th>\n      <td>\"Feb 19 00:00:29 nginx001 activitycenter:</td>\n      <td>120.27.173.41</td>\n      <td>39.184.9.64</td>\n      <td>39.184.9.64</td>\n      <td>-</td>\n      <td>19/Feb/2023:00:00:27 +0800</td>\n      <td>db.yaozh.com</td>\n      <td>200</td>\n      <td>24160</td>\n      <td>https://m.baidu.com/</td>\n      <td>...</td>\n      <td>0.588</td>\n      <td>200</td>\n      <td>10.81.44.54:9989</td>\n      <td>0.566</td>\n      <td>-</td>\n      <td>-</td>\n      <td>-</td>\n      <td>-</td>\n      <td>-</td>\n      <td>cc448df63d00ac9f721c6afef75d6c7e\"</td>\n    </tr>\n    <tr>\n      <th>5</th>\n      <td>\"Feb 19 00:00:29 nginx002 activitycenter:</td>\n      <td>118.178.15.70</td>\n      <td>124.227.52.28</td>\n      <td>124.227.52.28</td>\n      <td>-</td>\n      <td>19/Feb/2023:00:00:20 +0800</td>\n      <td>db.yaozh.com</td>\n      <td>200</td>\n      <td>25337</td>\n      <td>https://m.baidu.com/</td>\n      <td>...</td>\n      <td>1.095</td>\n      <td>200</td>\n      <td>10.29.189.185:9989</td>\n      <td>1.076</td>\n      <td>-</td>\n      <td>-</td>\n      <td>-</td>\n      <td>-</td>\n      <td>-</td>\n      <td>0c70db2f9fc5c840cd9a2e4d65943c59\"</td>\n    </tr>\n    <tr>\n      <th>...</th>\n      <td>...</td>\n      <td>...</td>\n      <td>...</td>\n      <td>...</td>\n      <td>...</td>\n      <td>...</td>\n      <td>...</td>\n      <td>...</td>\n      <td>...</td>\n      <td>...</td>\n      <td>...</td>\n      <td>...</td>\n      <td>...</td>\n      <td>...</td>\n      <td>...</td>\n      <td>...</td>\n      <td>...</td>\n      <td>...</td>\n      <td>...</td>\n      <td>...</td>\n      <td>...</td>\n    </tr>\n    <tr>\n      <th>41090</th>\n      <td>\"Feb 19 23:59:45 nginx001 activitycenter:</td>\n      <td>120.27.173.49</td>\n      <td>117.136.39.126</td>\n      <td>117.136.39.126</td>\n      <td>-</td>\n      <td>19/Feb/2023:23:59:40 +0800</td>\n      <td>db.yaozh.com</td>\n      <td>200</td>\n      <td>23151</td>\n      <td>https://m.baidu.com/</td>\n      <td>...</td>\n      <td>0.572</td>\n      <td>200</td>\n      <td>10.81.44.54:9989</td>\n      <td>0.553</td>\n      <td>-</td>\n      <td>-</td>\n      <td>-</td>\n      <td>-</td>\n      <td>-</td>\n      <td>e8088721a21c0db061a95b742ea16527\"</td>\n    </tr>\n    <tr>\n      <th>41091</th>\n      <td>\"Feb 19 23:59:45 nginx001 activitycenter:</td>\n      <td>118.178.15.115</td>\n      <td>119.182.162.46</td>\n      <td>119.182.162.46</td>\n      <td>-</td>\n      <td>19/Feb/2023:23:59:40 +0800</td>\n      <td>db.yaozh.com</td>\n      <td>200</td>\n      <td>24385</td>\n      <td>https://m.baidu.com/</td>\n      <td>...</td>\n      <td>1.220</td>\n      <td>200</td>\n      <td>10.46.228.27:9989</td>\n      <td>1.196</td>\n      <td>-</td>\n      <td>-</td>\n      <td>-</td>\n      <td>-</td>\n      <td>-</td>\n      <td>0b28bc3d60ff41a3276613057efbfcb1\"</td>\n    </tr>\n    <tr>\n      <th>41092</th>\n      <td>\"Feb 19 23:59:45 nginx002 activitycenter:</td>\n      <td>118.178.15.105</td>\n      <td>117.151.107.22</td>\n      <td>117.151.107.22</td>\n      <td>-</td>\n      <td>19/Feb/2023:23:59:42 +0800</td>\n      <td>db.yaozh.com</td>\n      <td>200</td>\n      <td>24445</td>\n      <td>https://m.baidu.com/?eqid=9870787b56d156b11000...</td>\n      <td>...</td>\n      <td>0.951</td>\n      <td>200</td>\n      <td>10.81.44.201:9989</td>\n      <td>0.932</td>\n      <td>-</td>\n      <td>-</td>\n      <td>-</td>\n      <td>-</td>\n      <td>-</td>\n      <td>9fd25471c3e4e924d9cc0be6ed88fbd5\"</td>\n    </tr>\n    <tr>\n      <th>41093</th>\n      <td>\"Feb 19 23:59:45 nginx001 activitycenter:</td>\n      <td>118.178.15.71</td>\n      <td>120.229.67.255</td>\n      <td>120.229.67.255</td>\n      <td>-</td>\n      <td>19/Feb/2023:23:59:44 +0800</td>\n      <td>db.yaozh.com</td>\n      <td>200</td>\n      <td>48552</td>\n      <td>https://m.baidu.com/?eqid=7792c82a33165d171000...</td>\n      <td>...</td>\n      <td>0.994</td>\n      <td>200</td>\n      <td>10.29.189.185:9989</td>\n      <td>0.976</td>\n      <td>-</td>\n      <td>-</td>\n      <td>-</td>\n      <td>-</td>\n      <td>-</td>\n      <td>0b6fb9147e554074b5d7cf98a2e26886\"</td>\n    </tr>\n    <tr>\n      <th>41094</th>\n      <td>\"Feb 19 23:59:55 nginx001 activitycenter:</td>\n      <td>118.178.15.72</td>\n      <td>218.12.18.80</td>\n      <td>218.12.18.80</td>\n      <td>-</td>\n      <td>19/Feb/2023:23:59:49 +0800</td>\n      <td>db.yaozh.com</td>\n      <td>200</td>\n      <td>22239</td>\n      <td>https://m.baidu.com/</td>\n      <td>...</td>\n      <td>0.390</td>\n      <td>200</td>\n      <td>10.81.44.201:9989</td>\n      <td>0.371</td>\n      <td>-</td>\n      <td>-</td>\n      <td>-</td>\n      <td>-</td>\n      <td>-</td>\n      <td>d4a0b22ba06de551b776c8f5926b9275\"</td>\n    </tr>\n  </tbody>\n</table>\n<p>41094 rows × 22 columns</p>\n</div>"
     },
     "execution_count": 18,
     "metadata": {},
     "output_type": "execute_result"
    }
   ],
   "source": [
    "df.drop(0)"
   ],
   "metadata": {
    "collapsed": false
   }
  },
  {
   "cell_type": "code",
   "execution_count": 20,
   "outputs": [],
   "source": [
    "df = df.drop(0)"
   ],
   "metadata": {
    "collapsed": false
   }
  },
  {
   "cell_type": "code",
   "execution_count": 21,
   "outputs": [
    {
     "data": {
      "text/plain": "                                               0                1   \\\n1      \"Feb 19 00:00:09 nginx001 activitycenter:    120.27.173.41    \n2      \"Feb 19 00:00:09 nginx001 activitycenter:    118.178.15.71    \n3      \"Feb 19 00:00:09 nginx001 activitycenter:    118.178.15.71    \n4      \"Feb 19 00:00:29 nginx001 activitycenter:    120.27.173.41    \n5      \"Feb 19 00:00:29 nginx002 activitycenter:    118.178.15.70    \n...                                           ...              ...   \n41090  \"Feb 19 23:59:45 nginx001 activitycenter:    120.27.173.49    \n41091  \"Feb 19 23:59:45 nginx001 activitycenter:   118.178.15.115    \n41092  \"Feb 19 23:59:45 nginx002 activitycenter:   118.178.15.105    \n41093  \"Feb 19 23:59:45 nginx001 activitycenter:    118.178.15.71    \n41094  \"Feb 19 23:59:55 nginx001 activitycenter:    118.178.15.72    \n\n                     2                 3   4                            5   \\\n1      223.104.147.158   223.104.147.158   -   19/Feb/2023:00:00:04 +0800    \n2       116.178.234.95    116.178.234.95   -   19/Feb/2023:00:00:03 +0800    \n3       116.178.234.95    116.178.234.95   -   19/Feb/2023:00:00:02 +0800    \n4          39.184.9.64       39.184.9.64   -   19/Feb/2023:00:00:27 +0800    \n5        124.227.52.28     124.227.52.28   -   19/Feb/2023:00:00:20 +0800    \n...                 ...               ...  ..                          ...   \n41090   117.136.39.126    117.136.39.126   -   19/Feb/2023:23:59:40 +0800    \n41091   119.182.162.46    119.182.162.46   -   19/Feb/2023:23:59:40 +0800    \n41092   117.151.107.22    117.151.107.22   -   19/Feb/2023:23:59:42 +0800    \n41093   120.229.67.255    120.229.67.255   -   19/Feb/2023:23:59:44 +0800    \n41094     218.12.18.80      218.12.18.80   -   19/Feb/2023:23:59:49 +0800    \n\n                  6     7       8   \\\n1      db.yaozh.com   200   26403    \n2      db.yaozh.com   200   24738    \n3      db.yaozh.com   200   25703    \n4      db.yaozh.com   200   24160    \n5      db.yaozh.com   200   25337    \n...              ...   ...     ...   \n41090  db.yaozh.com   200   23151    \n41091  db.yaozh.com   200   24385    \n41092  db.yaozh.com   200   24445    \n41093  db.yaozh.com   200   48552    \n41094  db.yaozh.com   200   22239    \n\n                                                      9   ...      12    13  \\\n1      https://m.baidu.com/from=844b/bd_page_type=1/s...  ...  1.337   200    \n2                                  https://m.baidu.com/   ...  0.941   200    \n3                                  https://m.baidu.com/   ...  0.829   200    \n4                                  https://m.baidu.com/   ...  0.588   200    \n5                                  https://m.baidu.com/   ...  1.095   200    \n...                                                  ...  ...     ...   ...   \n41090                              https://m.baidu.com/   ...  0.572   200    \n41091                              https://m.baidu.com/   ...  1.220   200    \n41092  https://m.baidu.com/?eqid=9870787b56d156b11000...  ...  0.951   200    \n41093  https://m.baidu.com/?eqid=7792c82a33165d171000...  ...  0.994   200    \n41094                              https://m.baidu.com/   ...  0.390   200    \n\n                        14      15  16  17  18  19  20  \\\n1      10.29.189.185:9989   1.304   -   -   -   -   -    \n2        10.81.44.54:9989   0.927   -   -   -   -   -    \n3       10.46.228.27:9989   0.811   -   -   -   -   -    \n4        10.81.44.54:9989   0.566   -   -   -   -   -    \n5      10.29.189.185:9989   1.076   -   -   -   -   -    \n...                    ...     ...  ..  ..  ..  ..  ..   \n41090    10.81.44.54:9989   0.553   -   -   -   -   -    \n41091   10.46.228.27:9989   1.196   -   -   -   -   -    \n41092   10.81.44.201:9989   0.932   -   -   -   -   -    \n41093  10.29.189.185:9989   0.976   -   -   -   -   -    \n41094   10.81.44.201:9989   0.371   -   -   -   -   -    \n\n                                      21  \n1      02f4929483b8263dced57fe14b012473\"  \n2      99f86436dc45cddff8aa9ea8cac1fd5c\"  \n3      10a7384c5d43ccb33db6a7f62288250f\"  \n4      cc448df63d00ac9f721c6afef75d6c7e\"  \n5      0c70db2f9fc5c840cd9a2e4d65943c59\"  \n...                                  ...  \n41090  e8088721a21c0db061a95b742ea16527\"  \n41091  0b28bc3d60ff41a3276613057efbfcb1\"  \n41092  9fd25471c3e4e924d9cc0be6ed88fbd5\"  \n41093  0b6fb9147e554074b5d7cf98a2e26886\"  \n41094  d4a0b22ba06de551b776c8f5926b9275\"  \n\n[41094 rows x 22 columns]",
      "text/html": "<div>\n<style scoped>\n    .dataframe tbody tr th:only-of-type {\n        vertical-align: middle;\n    }\n\n    .dataframe tbody tr th {\n        vertical-align: top;\n    }\n\n    .dataframe thead th {\n        text-align: right;\n    }\n</style>\n<table border=\"1\" class=\"dataframe\">\n  <thead>\n    <tr style=\"text-align: right;\">\n      <th></th>\n      <th>0</th>\n      <th>1</th>\n      <th>2</th>\n      <th>3</th>\n      <th>4</th>\n      <th>5</th>\n      <th>6</th>\n      <th>7</th>\n      <th>8</th>\n      <th>9</th>\n      <th>...</th>\n      <th>12</th>\n      <th>13</th>\n      <th>14</th>\n      <th>15</th>\n      <th>16</th>\n      <th>17</th>\n      <th>18</th>\n      <th>19</th>\n      <th>20</th>\n      <th>21</th>\n    </tr>\n  </thead>\n  <tbody>\n    <tr>\n      <th>1</th>\n      <td>\"Feb 19 00:00:09 nginx001 activitycenter:</td>\n      <td>120.27.173.41</td>\n      <td>223.104.147.158</td>\n      <td>223.104.147.158</td>\n      <td>-</td>\n      <td>19/Feb/2023:00:00:04 +0800</td>\n      <td>db.yaozh.com</td>\n      <td>200</td>\n      <td>26403</td>\n      <td>https://m.baidu.com/from=844b/bd_page_type=1/s...</td>\n      <td>...</td>\n      <td>1.337</td>\n      <td>200</td>\n      <td>10.29.189.185:9989</td>\n      <td>1.304</td>\n      <td>-</td>\n      <td>-</td>\n      <td>-</td>\n      <td>-</td>\n      <td>-</td>\n      <td>02f4929483b8263dced57fe14b012473\"</td>\n    </tr>\n    <tr>\n      <th>2</th>\n      <td>\"Feb 19 00:00:09 nginx001 activitycenter:</td>\n      <td>118.178.15.71</td>\n      <td>116.178.234.95</td>\n      <td>116.178.234.95</td>\n      <td>-</td>\n      <td>19/Feb/2023:00:00:03 +0800</td>\n      <td>db.yaozh.com</td>\n      <td>200</td>\n      <td>24738</td>\n      <td>https://m.baidu.com/</td>\n      <td>...</td>\n      <td>0.941</td>\n      <td>200</td>\n      <td>10.81.44.54:9989</td>\n      <td>0.927</td>\n      <td>-</td>\n      <td>-</td>\n      <td>-</td>\n      <td>-</td>\n      <td>-</td>\n      <td>99f86436dc45cddff8aa9ea8cac1fd5c\"</td>\n    </tr>\n    <tr>\n      <th>3</th>\n      <td>\"Feb 19 00:00:09 nginx001 activitycenter:</td>\n      <td>118.178.15.71</td>\n      <td>116.178.234.95</td>\n      <td>116.178.234.95</td>\n      <td>-</td>\n      <td>19/Feb/2023:00:00:02 +0800</td>\n      <td>db.yaozh.com</td>\n      <td>200</td>\n      <td>25703</td>\n      <td>https://m.baidu.com/</td>\n      <td>...</td>\n      <td>0.829</td>\n      <td>200</td>\n      <td>10.46.228.27:9989</td>\n      <td>0.811</td>\n      <td>-</td>\n      <td>-</td>\n      <td>-</td>\n      <td>-</td>\n      <td>-</td>\n      <td>10a7384c5d43ccb33db6a7f62288250f\"</td>\n    </tr>\n    <tr>\n      <th>4</th>\n      <td>\"Feb 19 00:00:29 nginx001 activitycenter:</td>\n      <td>120.27.173.41</td>\n      <td>39.184.9.64</td>\n      <td>39.184.9.64</td>\n      <td>-</td>\n      <td>19/Feb/2023:00:00:27 +0800</td>\n      <td>db.yaozh.com</td>\n      <td>200</td>\n      <td>24160</td>\n      <td>https://m.baidu.com/</td>\n      <td>...</td>\n      <td>0.588</td>\n      <td>200</td>\n      <td>10.81.44.54:9989</td>\n      <td>0.566</td>\n      <td>-</td>\n      <td>-</td>\n      <td>-</td>\n      <td>-</td>\n      <td>-</td>\n      <td>cc448df63d00ac9f721c6afef75d6c7e\"</td>\n    </tr>\n    <tr>\n      <th>5</th>\n      <td>\"Feb 19 00:00:29 nginx002 activitycenter:</td>\n      <td>118.178.15.70</td>\n      <td>124.227.52.28</td>\n      <td>124.227.52.28</td>\n      <td>-</td>\n      <td>19/Feb/2023:00:00:20 +0800</td>\n      <td>db.yaozh.com</td>\n      <td>200</td>\n      <td>25337</td>\n      <td>https://m.baidu.com/</td>\n      <td>...</td>\n      <td>1.095</td>\n      <td>200</td>\n      <td>10.29.189.185:9989</td>\n      <td>1.076</td>\n      <td>-</td>\n      <td>-</td>\n      <td>-</td>\n      <td>-</td>\n      <td>-</td>\n      <td>0c70db2f9fc5c840cd9a2e4d65943c59\"</td>\n    </tr>\n    <tr>\n      <th>...</th>\n      <td>...</td>\n      <td>...</td>\n      <td>...</td>\n      <td>...</td>\n      <td>...</td>\n      <td>...</td>\n      <td>...</td>\n      <td>...</td>\n      <td>...</td>\n      <td>...</td>\n      <td>...</td>\n      <td>...</td>\n      <td>...</td>\n      <td>...</td>\n      <td>...</td>\n      <td>...</td>\n      <td>...</td>\n      <td>...</td>\n      <td>...</td>\n      <td>...</td>\n      <td>...</td>\n    </tr>\n    <tr>\n      <th>41090</th>\n      <td>\"Feb 19 23:59:45 nginx001 activitycenter:</td>\n      <td>120.27.173.49</td>\n      <td>117.136.39.126</td>\n      <td>117.136.39.126</td>\n      <td>-</td>\n      <td>19/Feb/2023:23:59:40 +0800</td>\n      <td>db.yaozh.com</td>\n      <td>200</td>\n      <td>23151</td>\n      <td>https://m.baidu.com/</td>\n      <td>...</td>\n      <td>0.572</td>\n      <td>200</td>\n      <td>10.81.44.54:9989</td>\n      <td>0.553</td>\n      <td>-</td>\n      <td>-</td>\n      <td>-</td>\n      <td>-</td>\n      <td>-</td>\n      <td>e8088721a21c0db061a95b742ea16527\"</td>\n    </tr>\n    <tr>\n      <th>41091</th>\n      <td>\"Feb 19 23:59:45 nginx001 activitycenter:</td>\n      <td>118.178.15.115</td>\n      <td>119.182.162.46</td>\n      <td>119.182.162.46</td>\n      <td>-</td>\n      <td>19/Feb/2023:23:59:40 +0800</td>\n      <td>db.yaozh.com</td>\n      <td>200</td>\n      <td>24385</td>\n      <td>https://m.baidu.com/</td>\n      <td>...</td>\n      <td>1.220</td>\n      <td>200</td>\n      <td>10.46.228.27:9989</td>\n      <td>1.196</td>\n      <td>-</td>\n      <td>-</td>\n      <td>-</td>\n      <td>-</td>\n      <td>-</td>\n      <td>0b28bc3d60ff41a3276613057efbfcb1\"</td>\n    </tr>\n    <tr>\n      <th>41092</th>\n      <td>\"Feb 19 23:59:45 nginx002 activitycenter:</td>\n      <td>118.178.15.105</td>\n      <td>117.151.107.22</td>\n      <td>117.151.107.22</td>\n      <td>-</td>\n      <td>19/Feb/2023:23:59:42 +0800</td>\n      <td>db.yaozh.com</td>\n      <td>200</td>\n      <td>24445</td>\n      <td>https://m.baidu.com/?eqid=9870787b56d156b11000...</td>\n      <td>...</td>\n      <td>0.951</td>\n      <td>200</td>\n      <td>10.81.44.201:9989</td>\n      <td>0.932</td>\n      <td>-</td>\n      <td>-</td>\n      <td>-</td>\n      <td>-</td>\n      <td>-</td>\n      <td>9fd25471c3e4e924d9cc0be6ed88fbd5\"</td>\n    </tr>\n    <tr>\n      <th>41093</th>\n      <td>\"Feb 19 23:59:45 nginx001 activitycenter:</td>\n      <td>118.178.15.71</td>\n      <td>120.229.67.255</td>\n      <td>120.229.67.255</td>\n      <td>-</td>\n      <td>19/Feb/2023:23:59:44 +0800</td>\n      <td>db.yaozh.com</td>\n      <td>200</td>\n      <td>48552</td>\n      <td>https://m.baidu.com/?eqid=7792c82a33165d171000...</td>\n      <td>...</td>\n      <td>0.994</td>\n      <td>200</td>\n      <td>10.29.189.185:9989</td>\n      <td>0.976</td>\n      <td>-</td>\n      <td>-</td>\n      <td>-</td>\n      <td>-</td>\n      <td>-</td>\n      <td>0b6fb9147e554074b5d7cf98a2e26886\"</td>\n    </tr>\n    <tr>\n      <th>41094</th>\n      <td>\"Feb 19 23:59:55 nginx001 activitycenter:</td>\n      <td>118.178.15.72</td>\n      <td>218.12.18.80</td>\n      <td>218.12.18.80</td>\n      <td>-</td>\n      <td>19/Feb/2023:23:59:49 +0800</td>\n      <td>db.yaozh.com</td>\n      <td>200</td>\n      <td>22239</td>\n      <td>https://m.baidu.com/</td>\n      <td>...</td>\n      <td>0.390</td>\n      <td>200</td>\n      <td>10.81.44.201:9989</td>\n      <td>0.371</td>\n      <td>-</td>\n      <td>-</td>\n      <td>-</td>\n      <td>-</td>\n      <td>-</td>\n      <td>d4a0b22ba06de551b776c8f5926b9275\"</td>\n    </tr>\n  </tbody>\n</table>\n<p>41094 rows × 22 columns</p>\n</div>"
     },
     "execution_count": 21,
     "metadata": {},
     "output_type": "execute_result"
    }
   ],
   "source": [
    "df"
   ],
   "metadata": {
    "collapsed": false
   }
  },
  {
   "cell_type": "code",
   "execution_count": 22,
   "outputs": [],
   "source": [
    "log_df = df[[3,5,7,9,10]]"
   ],
   "metadata": {
    "collapsed": false
   }
  },
  {
   "cell_type": "code",
   "execution_count": 23,
   "outputs": [
    {
     "data": {
      "text/plain": "                     3                            5     7   \\\n1      223.104.147.158   19/Feb/2023:00:00:04 +0800   200    \n2       116.178.234.95   19/Feb/2023:00:00:03 +0800   200    \n3       116.178.234.95   19/Feb/2023:00:00:02 +0800   200    \n4          39.184.9.64   19/Feb/2023:00:00:27 +0800   200    \n5        124.227.52.28   19/Feb/2023:00:00:20 +0800   200    \n...                 ...                          ...   ...   \n41090   117.136.39.126   19/Feb/2023:23:59:40 +0800   200    \n41091   119.182.162.46   19/Feb/2023:23:59:40 +0800   200    \n41092   117.151.107.22   19/Feb/2023:23:59:42 +0800   200    \n41093   120.229.67.255   19/Feb/2023:23:59:44 +0800   200    \n41094     218.12.18.80   19/Feb/2023:23:59:49 +0800   200    \n\n                                                      9   \\\n1      https://m.baidu.com/from=844b/bd_page_type=1/s...   \n2                                  https://m.baidu.com/    \n3                                  https://m.baidu.com/    \n4                                  https://m.baidu.com/    \n5                                  https://m.baidu.com/    \n...                                                  ...   \n41090                              https://m.baidu.com/    \n41091                              https://m.baidu.com/    \n41092  https://m.baidu.com/?eqid=9870787b56d156b11000...   \n41093  https://m.baidu.com/?eqid=7792c82a33165d171000...   \n41094                              https://m.baidu.com/    \n\n                                               10  \n1              GET /instruct/27822.html HTTP/1.1   \n2               GET /instruct/2594.html HTTP/1.1   \n3              GET /instruct/12026.html HTTP/1.1   \n4            GET /zhongyaocai/7074.html HTTP/1.1   \n5              GET /instruct/18237.html HTTP/1.1   \n...                                           ...  \n41090        GET /zhongyaocai/7309.html HTTP/1.1   \n41091          GET /instruct/39070.html HTTP/1.1   \n41092  GET /jixie/7080833640000033.html HTTP/1.1   \n41093          GET /instruct/48562.html HTTP/1.1   \n41094      GET /yaopinjiage/161559.html HTTP/1.1   \n\n[41094 rows x 5 columns]",
      "text/html": "<div>\n<style scoped>\n    .dataframe tbody tr th:only-of-type {\n        vertical-align: middle;\n    }\n\n    .dataframe tbody tr th {\n        vertical-align: top;\n    }\n\n    .dataframe thead th {\n        text-align: right;\n    }\n</style>\n<table border=\"1\" class=\"dataframe\">\n  <thead>\n    <tr style=\"text-align: right;\">\n      <th></th>\n      <th>3</th>\n      <th>5</th>\n      <th>7</th>\n      <th>9</th>\n      <th>10</th>\n    </tr>\n  </thead>\n  <tbody>\n    <tr>\n      <th>1</th>\n      <td>223.104.147.158</td>\n      <td>19/Feb/2023:00:00:04 +0800</td>\n      <td>200</td>\n      <td>https://m.baidu.com/from=844b/bd_page_type=1/s...</td>\n      <td>GET /instruct/27822.html HTTP/1.1</td>\n    </tr>\n    <tr>\n      <th>2</th>\n      <td>116.178.234.95</td>\n      <td>19/Feb/2023:00:00:03 +0800</td>\n      <td>200</td>\n      <td>https://m.baidu.com/</td>\n      <td>GET /instruct/2594.html HTTP/1.1</td>\n    </tr>\n    <tr>\n      <th>3</th>\n      <td>116.178.234.95</td>\n      <td>19/Feb/2023:00:00:02 +0800</td>\n      <td>200</td>\n      <td>https://m.baidu.com/</td>\n      <td>GET /instruct/12026.html HTTP/1.1</td>\n    </tr>\n    <tr>\n      <th>4</th>\n      <td>39.184.9.64</td>\n      <td>19/Feb/2023:00:00:27 +0800</td>\n      <td>200</td>\n      <td>https://m.baidu.com/</td>\n      <td>GET /zhongyaocai/7074.html HTTP/1.1</td>\n    </tr>\n    <tr>\n      <th>5</th>\n      <td>124.227.52.28</td>\n      <td>19/Feb/2023:00:00:20 +0800</td>\n      <td>200</td>\n      <td>https://m.baidu.com/</td>\n      <td>GET /instruct/18237.html HTTP/1.1</td>\n    </tr>\n    <tr>\n      <th>...</th>\n      <td>...</td>\n      <td>...</td>\n      <td>...</td>\n      <td>...</td>\n      <td>...</td>\n    </tr>\n    <tr>\n      <th>41090</th>\n      <td>117.136.39.126</td>\n      <td>19/Feb/2023:23:59:40 +0800</td>\n      <td>200</td>\n      <td>https://m.baidu.com/</td>\n      <td>GET /zhongyaocai/7309.html HTTP/1.1</td>\n    </tr>\n    <tr>\n      <th>41091</th>\n      <td>119.182.162.46</td>\n      <td>19/Feb/2023:23:59:40 +0800</td>\n      <td>200</td>\n      <td>https://m.baidu.com/</td>\n      <td>GET /instruct/39070.html HTTP/1.1</td>\n    </tr>\n    <tr>\n      <th>41092</th>\n      <td>117.151.107.22</td>\n      <td>19/Feb/2023:23:59:42 +0800</td>\n      <td>200</td>\n      <td>https://m.baidu.com/?eqid=9870787b56d156b11000...</td>\n      <td>GET /jixie/7080833640000033.html HTTP/1.1</td>\n    </tr>\n    <tr>\n      <th>41093</th>\n      <td>120.229.67.255</td>\n      <td>19/Feb/2023:23:59:44 +0800</td>\n      <td>200</td>\n      <td>https://m.baidu.com/?eqid=7792c82a33165d171000...</td>\n      <td>GET /instruct/48562.html HTTP/1.1</td>\n    </tr>\n    <tr>\n      <th>41094</th>\n      <td>218.12.18.80</td>\n      <td>19/Feb/2023:23:59:49 +0800</td>\n      <td>200</td>\n      <td>https://m.baidu.com/</td>\n      <td>GET /yaopinjiage/161559.html HTTP/1.1</td>\n    </tr>\n  </tbody>\n</table>\n<p>41094 rows × 5 columns</p>\n</div>"
     },
     "execution_count": 23,
     "metadata": {},
     "output_type": "execute_result"
    }
   ],
   "source": [
    "log_df"
   ],
   "metadata": {
    "collapsed": false
   }
  },
  {
   "cell_type": "code",
   "execution_count": 24,
   "outputs": [],
   "source": [
    "log_df.columns=['ip','date','http-code','refer','method']"
   ],
   "metadata": {
    "collapsed": false
   }
  },
  {
   "cell_type": "code",
   "execution_count": 25,
   "outputs": [
    {
     "data": {
      "text/plain": "                     ip                         date http-code  \\\n1      223.104.147.158   19/Feb/2023:00:00:04 +0800       200    \n2       116.178.234.95   19/Feb/2023:00:00:03 +0800       200    \n3       116.178.234.95   19/Feb/2023:00:00:02 +0800       200    \n4          39.184.9.64   19/Feb/2023:00:00:27 +0800       200    \n5        124.227.52.28   19/Feb/2023:00:00:20 +0800       200    \n...                 ...                          ...       ...   \n41090   117.136.39.126   19/Feb/2023:23:59:40 +0800       200    \n41091   119.182.162.46   19/Feb/2023:23:59:40 +0800       200    \n41092   117.151.107.22   19/Feb/2023:23:59:42 +0800       200    \n41093   120.229.67.255   19/Feb/2023:23:59:44 +0800       200    \n41094     218.12.18.80   19/Feb/2023:23:59:49 +0800       200    \n\n                                                   refer  \\\n1      https://m.baidu.com/from=844b/bd_page_type=1/s...   \n2                                  https://m.baidu.com/    \n3                                  https://m.baidu.com/    \n4                                  https://m.baidu.com/    \n5                                  https://m.baidu.com/    \n...                                                  ...   \n41090                              https://m.baidu.com/    \n41091                              https://m.baidu.com/    \n41092  https://m.baidu.com/?eqid=9870787b56d156b11000...   \n41093  https://m.baidu.com/?eqid=7792c82a33165d171000...   \n41094                              https://m.baidu.com/    \n\n                                           method  \n1              GET /instruct/27822.html HTTP/1.1   \n2               GET /instruct/2594.html HTTP/1.1   \n3              GET /instruct/12026.html HTTP/1.1   \n4            GET /zhongyaocai/7074.html HTTP/1.1   \n5              GET /instruct/18237.html HTTP/1.1   \n...                                           ...  \n41090        GET /zhongyaocai/7309.html HTTP/1.1   \n41091          GET /instruct/39070.html HTTP/1.1   \n41092  GET /jixie/7080833640000033.html HTTP/1.1   \n41093          GET /instruct/48562.html HTTP/1.1   \n41094      GET /yaopinjiage/161559.html HTTP/1.1   \n\n[41094 rows x 5 columns]",
      "text/html": "<div>\n<style scoped>\n    .dataframe tbody tr th:only-of-type {\n        vertical-align: middle;\n    }\n\n    .dataframe tbody tr th {\n        vertical-align: top;\n    }\n\n    .dataframe thead th {\n        text-align: right;\n    }\n</style>\n<table border=\"1\" class=\"dataframe\">\n  <thead>\n    <tr style=\"text-align: right;\">\n      <th></th>\n      <th>ip</th>\n      <th>date</th>\n      <th>http-code</th>\n      <th>refer</th>\n      <th>method</th>\n    </tr>\n  </thead>\n  <tbody>\n    <tr>\n      <th>1</th>\n      <td>223.104.147.158</td>\n      <td>19/Feb/2023:00:00:04 +0800</td>\n      <td>200</td>\n      <td>https://m.baidu.com/from=844b/bd_page_type=1/s...</td>\n      <td>GET /instruct/27822.html HTTP/1.1</td>\n    </tr>\n    <tr>\n      <th>2</th>\n      <td>116.178.234.95</td>\n      <td>19/Feb/2023:00:00:03 +0800</td>\n      <td>200</td>\n      <td>https://m.baidu.com/</td>\n      <td>GET /instruct/2594.html HTTP/1.1</td>\n    </tr>\n    <tr>\n      <th>3</th>\n      <td>116.178.234.95</td>\n      <td>19/Feb/2023:00:00:02 +0800</td>\n      <td>200</td>\n      <td>https://m.baidu.com/</td>\n      <td>GET /instruct/12026.html HTTP/1.1</td>\n    </tr>\n    <tr>\n      <th>4</th>\n      <td>39.184.9.64</td>\n      <td>19/Feb/2023:00:00:27 +0800</td>\n      <td>200</td>\n      <td>https://m.baidu.com/</td>\n      <td>GET /zhongyaocai/7074.html HTTP/1.1</td>\n    </tr>\n    <tr>\n      <th>5</th>\n      <td>124.227.52.28</td>\n      <td>19/Feb/2023:00:00:20 +0800</td>\n      <td>200</td>\n      <td>https://m.baidu.com/</td>\n      <td>GET /instruct/18237.html HTTP/1.1</td>\n    </tr>\n    <tr>\n      <th>...</th>\n      <td>...</td>\n      <td>...</td>\n      <td>...</td>\n      <td>...</td>\n      <td>...</td>\n    </tr>\n    <tr>\n      <th>41090</th>\n      <td>117.136.39.126</td>\n      <td>19/Feb/2023:23:59:40 +0800</td>\n      <td>200</td>\n      <td>https://m.baidu.com/</td>\n      <td>GET /zhongyaocai/7309.html HTTP/1.1</td>\n    </tr>\n    <tr>\n      <th>41091</th>\n      <td>119.182.162.46</td>\n      <td>19/Feb/2023:23:59:40 +0800</td>\n      <td>200</td>\n      <td>https://m.baidu.com/</td>\n      <td>GET /instruct/39070.html HTTP/1.1</td>\n    </tr>\n    <tr>\n      <th>41092</th>\n      <td>117.151.107.22</td>\n      <td>19/Feb/2023:23:59:42 +0800</td>\n      <td>200</td>\n      <td>https://m.baidu.com/?eqid=9870787b56d156b11000...</td>\n      <td>GET /jixie/7080833640000033.html HTTP/1.1</td>\n    </tr>\n    <tr>\n      <th>41093</th>\n      <td>120.229.67.255</td>\n      <td>19/Feb/2023:23:59:44 +0800</td>\n      <td>200</td>\n      <td>https://m.baidu.com/?eqid=7792c82a33165d171000...</td>\n      <td>GET /instruct/48562.html HTTP/1.1</td>\n    </tr>\n    <tr>\n      <th>41094</th>\n      <td>218.12.18.80</td>\n      <td>19/Feb/2023:23:59:49 +0800</td>\n      <td>200</td>\n      <td>https://m.baidu.com/</td>\n      <td>GET /yaopinjiage/161559.html HTTP/1.1</td>\n    </tr>\n  </tbody>\n</table>\n<p>41094 rows × 5 columns</p>\n</div>"
     },
     "execution_count": 25,
     "metadata": {},
     "output_type": "execute_result"
    }
   ],
   "source": [
    "log_df"
   ],
   "metadata": {
    "collapsed": false
   }
  },
  {
   "cell_type": "code",
   "execution_count": 30,
   "outputs": [
    {
     "name": "stderr",
     "output_type": "stream",
     "text": [
      "d:\\py\\lib\\site-packages\\ipykernel_launcher.py:1: SettingWithCopyWarning: \n",
      "A value is trying to be set on a copy of a slice from a DataFrame.\n",
      "Try using .loc[row_indexer,col_indexer] = value instead\n",
      "\n",
      "See the caveats in the documentation: https://pandas.pydata.org/pandas-docs/stable/user_guide/indexing.html#returning-a-view-versus-a-copy\n",
      "  \"\"\"Entry point for launching an IPython kernel.\n"
     ]
    }
   ],
   "source": [
    "log_df['path'] = log_df['method'].apply(lambda x:x.split()[1])"
   ],
   "metadata": {
    "collapsed": false
   }
  },
  {
   "cell_type": "code",
   "execution_count": 31,
   "outputs": [
    {
     "data": {
      "text/plain": "                     ip                         date http-code  \\\n1      223.104.147.158   19/Feb/2023:00:00:04 +0800       200    \n2       116.178.234.95   19/Feb/2023:00:00:03 +0800       200    \n3       116.178.234.95   19/Feb/2023:00:00:02 +0800       200    \n4          39.184.9.64   19/Feb/2023:00:00:27 +0800       200    \n5        124.227.52.28   19/Feb/2023:00:00:20 +0800       200    \n...                 ...                          ...       ...   \n41090   117.136.39.126   19/Feb/2023:23:59:40 +0800       200    \n41091   119.182.162.46   19/Feb/2023:23:59:40 +0800       200    \n41092   117.151.107.22   19/Feb/2023:23:59:42 +0800       200    \n41093   120.229.67.255   19/Feb/2023:23:59:44 +0800       200    \n41094     218.12.18.80   19/Feb/2023:23:59:49 +0800       200    \n\n                                                   refer  \\\n1      https://m.baidu.com/from=844b/bd_page_type=1/s...   \n2                                  https://m.baidu.com/    \n3                                  https://m.baidu.com/    \n4                                  https://m.baidu.com/    \n5                                  https://m.baidu.com/    \n...                                                  ...   \n41090                              https://m.baidu.com/    \n41091                              https://m.baidu.com/    \n41092  https://m.baidu.com/?eqid=9870787b56d156b11000...   \n41093  https://m.baidu.com/?eqid=7792c82a33165d171000...   \n41094                              https://m.baidu.com/    \n\n                                           method  \\\n1              GET /instruct/27822.html HTTP/1.1    \n2               GET /instruct/2594.html HTTP/1.1    \n3              GET /instruct/12026.html HTTP/1.1    \n4            GET /zhongyaocai/7074.html HTTP/1.1    \n5              GET /instruct/18237.html HTTP/1.1    \n...                                           ...   \n41090        GET /zhongyaocai/7309.html HTTP/1.1    \n41091          GET /instruct/39070.html HTTP/1.1    \n41092  GET /jixie/7080833640000033.html HTTP/1.1    \n41093          GET /instruct/48562.html HTTP/1.1    \n41094      GET /yaopinjiage/161559.html HTTP/1.1    \n\n                               path  \n1              /instruct/27822.html  \n2               /instruct/2594.html  \n3              /instruct/12026.html  \n4            /zhongyaocai/7074.html  \n5              /instruct/18237.html  \n...                             ...  \n41090        /zhongyaocai/7309.html  \n41091          /instruct/39070.html  \n41092  /jixie/7080833640000033.html  \n41093          /instruct/48562.html  \n41094      /yaopinjiage/161559.html  \n\n[41094 rows x 6 columns]",
      "text/html": "<div>\n<style scoped>\n    .dataframe tbody tr th:only-of-type {\n        vertical-align: middle;\n    }\n\n    .dataframe tbody tr th {\n        vertical-align: top;\n    }\n\n    .dataframe thead th {\n        text-align: right;\n    }\n</style>\n<table border=\"1\" class=\"dataframe\">\n  <thead>\n    <tr style=\"text-align: right;\">\n      <th></th>\n      <th>ip</th>\n      <th>date</th>\n      <th>http-code</th>\n      <th>refer</th>\n      <th>method</th>\n      <th>path</th>\n    </tr>\n  </thead>\n  <tbody>\n    <tr>\n      <th>1</th>\n      <td>223.104.147.158</td>\n      <td>19/Feb/2023:00:00:04 +0800</td>\n      <td>200</td>\n      <td>https://m.baidu.com/from=844b/bd_page_type=1/s...</td>\n      <td>GET /instruct/27822.html HTTP/1.1</td>\n      <td>/instruct/27822.html</td>\n    </tr>\n    <tr>\n      <th>2</th>\n      <td>116.178.234.95</td>\n      <td>19/Feb/2023:00:00:03 +0800</td>\n      <td>200</td>\n      <td>https://m.baidu.com/</td>\n      <td>GET /instruct/2594.html HTTP/1.1</td>\n      <td>/instruct/2594.html</td>\n    </tr>\n    <tr>\n      <th>3</th>\n      <td>116.178.234.95</td>\n      <td>19/Feb/2023:00:00:02 +0800</td>\n      <td>200</td>\n      <td>https://m.baidu.com/</td>\n      <td>GET /instruct/12026.html HTTP/1.1</td>\n      <td>/instruct/12026.html</td>\n    </tr>\n    <tr>\n      <th>4</th>\n      <td>39.184.9.64</td>\n      <td>19/Feb/2023:00:00:27 +0800</td>\n      <td>200</td>\n      <td>https://m.baidu.com/</td>\n      <td>GET /zhongyaocai/7074.html HTTP/1.1</td>\n      <td>/zhongyaocai/7074.html</td>\n    </tr>\n    <tr>\n      <th>5</th>\n      <td>124.227.52.28</td>\n      <td>19/Feb/2023:00:00:20 +0800</td>\n      <td>200</td>\n      <td>https://m.baidu.com/</td>\n      <td>GET /instruct/18237.html HTTP/1.1</td>\n      <td>/instruct/18237.html</td>\n    </tr>\n    <tr>\n      <th>...</th>\n      <td>...</td>\n      <td>...</td>\n      <td>...</td>\n      <td>...</td>\n      <td>...</td>\n      <td>...</td>\n    </tr>\n    <tr>\n      <th>41090</th>\n      <td>117.136.39.126</td>\n      <td>19/Feb/2023:23:59:40 +0800</td>\n      <td>200</td>\n      <td>https://m.baidu.com/</td>\n      <td>GET /zhongyaocai/7309.html HTTP/1.1</td>\n      <td>/zhongyaocai/7309.html</td>\n    </tr>\n    <tr>\n      <th>41091</th>\n      <td>119.182.162.46</td>\n      <td>19/Feb/2023:23:59:40 +0800</td>\n      <td>200</td>\n      <td>https://m.baidu.com/</td>\n      <td>GET /instruct/39070.html HTTP/1.1</td>\n      <td>/instruct/39070.html</td>\n    </tr>\n    <tr>\n      <th>41092</th>\n      <td>117.151.107.22</td>\n      <td>19/Feb/2023:23:59:42 +0800</td>\n      <td>200</td>\n      <td>https://m.baidu.com/?eqid=9870787b56d156b11000...</td>\n      <td>GET /jixie/7080833640000033.html HTTP/1.1</td>\n      <td>/jixie/7080833640000033.html</td>\n    </tr>\n    <tr>\n      <th>41093</th>\n      <td>120.229.67.255</td>\n      <td>19/Feb/2023:23:59:44 +0800</td>\n      <td>200</td>\n      <td>https://m.baidu.com/?eqid=7792c82a33165d171000...</td>\n      <td>GET /instruct/48562.html HTTP/1.1</td>\n      <td>/instruct/48562.html</td>\n    </tr>\n    <tr>\n      <th>41094</th>\n      <td>218.12.18.80</td>\n      <td>19/Feb/2023:23:59:49 +0800</td>\n      <td>200</td>\n      <td>https://m.baidu.com/</td>\n      <td>GET /yaopinjiage/161559.html HTTP/1.1</td>\n      <td>/yaopinjiage/161559.html</td>\n    </tr>\n  </tbody>\n</table>\n<p>41094 rows × 6 columns</p>\n</div>"
     },
     "execution_count": 31,
     "metadata": {},
     "output_type": "execute_result"
    }
   ],
   "source": [
    "log_df"
   ],
   "metadata": {
    "collapsed": false
   }
  },
  {
   "cell_type": "code",
   "execution_count": 35,
   "outputs": [],
   "source": [
    "from furl import  furl"
   ],
   "metadata": {
    "collapsed": false
   }
  },
  {
   "cell_type": "code",
   "execution_count": 57,
   "outputs": [
    {
     "name": "stderr",
     "output_type": "stream",
     "text": [
      "d:\\py\\lib\\site-packages\\ipykernel_launcher.py:1: SettingWithCopyWarning: \n",
      "A value is trying to be set on a copy of a slice from a DataFrame.\n",
      "Try using .loc[row_indexer,col_indexer] = value instead\n",
      "\n",
      "See the caveats in the documentation: https://pandas.pydata.org/pandas-docs/stable/user_guide/indexing.html#returning-a-view-versus-a-copy\n",
      "  \"\"\"Entry point for launching an IPython kernel.\n"
     ]
    }
   ],
   "source": [
    "log_df['first_dir'] = log_df['path'].apply(lambda x:furl(x).path.segments[0])"
   ],
   "metadata": {
    "collapsed": false
   }
  },
  {
   "cell_type": "code",
   "execution_count": 58,
   "outputs": [
    {
     "data": {
      "text/plain": "                     ip                         date http-code  \\\n1      223.104.147.158   19/Feb/2023:00:00:04 +0800       200    \n2       116.178.234.95   19/Feb/2023:00:00:03 +0800       200    \n3       116.178.234.95   19/Feb/2023:00:00:02 +0800       200    \n4          39.184.9.64   19/Feb/2023:00:00:27 +0800       200    \n5        124.227.52.28   19/Feb/2023:00:00:20 +0800       200    \n...                 ...                          ...       ...   \n41090   117.136.39.126   19/Feb/2023:23:59:40 +0800       200    \n41091   119.182.162.46   19/Feb/2023:23:59:40 +0800       200    \n41092   117.151.107.22   19/Feb/2023:23:59:42 +0800       200    \n41093   120.229.67.255   19/Feb/2023:23:59:44 +0800       200    \n41094     218.12.18.80   19/Feb/2023:23:59:49 +0800       200    \n\n                                                   refer  \\\n1      https://m.baidu.com/from=844b/bd_page_type=1/s...   \n2                                  https://m.baidu.com/    \n3                                  https://m.baidu.com/    \n4                                  https://m.baidu.com/    \n5                                  https://m.baidu.com/    \n...                                                  ...   \n41090                              https://m.baidu.com/    \n41091                              https://m.baidu.com/    \n41092  https://m.baidu.com/?eqid=9870787b56d156b11000...   \n41093  https://m.baidu.com/?eqid=7792c82a33165d171000...   \n41094                              https://m.baidu.com/    \n\n                                           method  \\\n1              GET /instruct/27822.html HTTP/1.1    \n2               GET /instruct/2594.html HTTP/1.1    \n3              GET /instruct/12026.html HTTP/1.1    \n4            GET /zhongyaocai/7074.html HTTP/1.1    \n5              GET /instruct/18237.html HTTP/1.1    \n...                                           ...   \n41090        GET /zhongyaocai/7309.html HTTP/1.1    \n41091          GET /instruct/39070.html HTTP/1.1    \n41092  GET /jixie/7080833640000033.html HTTP/1.1    \n41093          GET /instruct/48562.html HTTP/1.1    \n41094      GET /yaopinjiage/161559.html HTTP/1.1    \n\n                               path    first_dir  \n1              /instruct/27822.html     instruct  \n2               /instruct/2594.html     instruct  \n3              /instruct/12026.html     instruct  \n4            /zhongyaocai/7074.html  zhongyaocai  \n5              /instruct/18237.html     instruct  \n...                             ...          ...  \n41090        /zhongyaocai/7309.html  zhongyaocai  \n41091          /instruct/39070.html     instruct  \n41092  /jixie/7080833640000033.html        jixie  \n41093          /instruct/48562.html     instruct  \n41094      /yaopinjiage/161559.html  yaopinjiage  \n\n[41094 rows x 7 columns]",
      "text/html": "<div>\n<style scoped>\n    .dataframe tbody tr th:only-of-type {\n        vertical-align: middle;\n    }\n\n    .dataframe tbody tr th {\n        vertical-align: top;\n    }\n\n    .dataframe thead th {\n        text-align: right;\n    }\n</style>\n<table border=\"1\" class=\"dataframe\">\n  <thead>\n    <tr style=\"text-align: right;\">\n      <th></th>\n      <th>ip</th>\n      <th>date</th>\n      <th>http-code</th>\n      <th>refer</th>\n      <th>method</th>\n      <th>path</th>\n      <th>first_dir</th>\n    </tr>\n  </thead>\n  <tbody>\n    <tr>\n      <th>1</th>\n      <td>223.104.147.158</td>\n      <td>19/Feb/2023:00:00:04 +0800</td>\n      <td>200</td>\n      <td>https://m.baidu.com/from=844b/bd_page_type=1/s...</td>\n      <td>GET /instruct/27822.html HTTP/1.1</td>\n      <td>/instruct/27822.html</td>\n      <td>instruct</td>\n    </tr>\n    <tr>\n      <th>2</th>\n      <td>116.178.234.95</td>\n      <td>19/Feb/2023:00:00:03 +0800</td>\n      <td>200</td>\n      <td>https://m.baidu.com/</td>\n      <td>GET /instruct/2594.html HTTP/1.1</td>\n      <td>/instruct/2594.html</td>\n      <td>instruct</td>\n    </tr>\n    <tr>\n      <th>3</th>\n      <td>116.178.234.95</td>\n      <td>19/Feb/2023:00:00:02 +0800</td>\n      <td>200</td>\n      <td>https://m.baidu.com/</td>\n      <td>GET /instruct/12026.html HTTP/1.1</td>\n      <td>/instruct/12026.html</td>\n      <td>instruct</td>\n    </tr>\n    <tr>\n      <th>4</th>\n      <td>39.184.9.64</td>\n      <td>19/Feb/2023:00:00:27 +0800</td>\n      <td>200</td>\n      <td>https://m.baidu.com/</td>\n      <td>GET /zhongyaocai/7074.html HTTP/1.1</td>\n      <td>/zhongyaocai/7074.html</td>\n      <td>zhongyaocai</td>\n    </tr>\n    <tr>\n      <th>5</th>\n      <td>124.227.52.28</td>\n      <td>19/Feb/2023:00:00:20 +0800</td>\n      <td>200</td>\n      <td>https://m.baidu.com/</td>\n      <td>GET /instruct/18237.html HTTP/1.1</td>\n      <td>/instruct/18237.html</td>\n      <td>instruct</td>\n    </tr>\n    <tr>\n      <th>...</th>\n      <td>...</td>\n      <td>...</td>\n      <td>...</td>\n      <td>...</td>\n      <td>...</td>\n      <td>...</td>\n      <td>...</td>\n    </tr>\n    <tr>\n      <th>41090</th>\n      <td>117.136.39.126</td>\n      <td>19/Feb/2023:23:59:40 +0800</td>\n      <td>200</td>\n      <td>https://m.baidu.com/</td>\n      <td>GET /zhongyaocai/7309.html HTTP/1.1</td>\n      <td>/zhongyaocai/7309.html</td>\n      <td>zhongyaocai</td>\n    </tr>\n    <tr>\n      <th>41091</th>\n      <td>119.182.162.46</td>\n      <td>19/Feb/2023:23:59:40 +0800</td>\n      <td>200</td>\n      <td>https://m.baidu.com/</td>\n      <td>GET /instruct/39070.html HTTP/1.1</td>\n      <td>/instruct/39070.html</td>\n      <td>instruct</td>\n    </tr>\n    <tr>\n      <th>41092</th>\n      <td>117.151.107.22</td>\n      <td>19/Feb/2023:23:59:42 +0800</td>\n      <td>200</td>\n      <td>https://m.baidu.com/?eqid=9870787b56d156b11000...</td>\n      <td>GET /jixie/7080833640000033.html HTTP/1.1</td>\n      <td>/jixie/7080833640000033.html</td>\n      <td>jixie</td>\n    </tr>\n    <tr>\n      <th>41093</th>\n      <td>120.229.67.255</td>\n      <td>19/Feb/2023:23:59:44 +0800</td>\n      <td>200</td>\n      <td>https://m.baidu.com/?eqid=7792c82a33165d171000...</td>\n      <td>GET /instruct/48562.html HTTP/1.1</td>\n      <td>/instruct/48562.html</td>\n      <td>instruct</td>\n    </tr>\n    <tr>\n      <th>41094</th>\n      <td>218.12.18.80</td>\n      <td>19/Feb/2023:23:59:49 +0800</td>\n      <td>200</td>\n      <td>https://m.baidu.com/</td>\n      <td>GET /yaopinjiage/161559.html HTTP/1.1</td>\n      <td>/yaopinjiage/161559.html</td>\n      <td>yaopinjiage</td>\n    </tr>\n  </tbody>\n</table>\n<p>41094 rows × 7 columns</p>\n</div>"
     },
     "execution_count": 58,
     "metadata": {},
     "output_type": "execute_result"
    }
   ],
   "source": [
    "log_df"
   ],
   "metadata": {
    "collapsed": false
   }
  },
  {
   "cell_type": "code",
   "execution_count": 60,
   "outputs": [
    {
     "data": {
      "text/plain": "instruct                16726\nzhongyaocai              7702\njixie                    3897\nyaocai_bz                2116\nyibao                    1459\n                        ...  \ndijia                       1\nhcff                        1\nfavicon.ico                 1\nyaopinzhongbiao.html        1\nzhuce.html                  1\nName: first_dir, Length: 141, dtype: int64"
     },
     "execution_count": 60,
     "metadata": {},
     "output_type": "execute_result"
    }
   ],
   "source": [
    "log_df['first_dir'].value_counts()"
   ],
   "metadata": {
    "collapsed": false
   }
  },
  {
   "cell_type": "code",
   "execution_count": null,
   "outputs": [],
   "source": [],
   "metadata": {
    "collapsed": false
   }
  }
 ],
 "metadata": {
  "kernelspec": {
   "display_name": "Python 3",
   "language": "python",
   "name": "python3"
  },
  "language_info": {
   "codemirror_mode": {
    "name": "ipython",
    "version": 2
   },
   "file_extension": ".py",
   "mimetype": "text/x-python",
   "name": "python",
   "nbconvert_exporter": "python",
   "pygments_lexer": "ipython2",
   "version": "2.7.6"
  }
 },
 "nbformat": 4,
 "nbformat_minor": 0
}
