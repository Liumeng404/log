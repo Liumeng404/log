{
 "cells": [
  {
   "cell_type": "code",
   "execution_count": 1,
   "outputs": [],
   "source": [
    "import pandas as pd"
   ],
   "metadata": {
    "collapsed": false
   }
  },
  {
   "cell_type": "code",
   "execution_count": 2,
   "outputs": [],
   "source": [
    "with open('2-21.csv','r') as f:\n",
    "    log = f.readlines()\n",
    "\n",
    "log_list = []\n",
    "for each in log:\n",
    "    field = each.strip().split(\"^\")\n",
    "    log_list.append(field)\n"
   ],
   "metadata": {
    "collapsed": false
   }
  },
  {
   "cell_type": "code",
   "execution_count": 3,
   "outputs": [],
   "source": [
    "df = pd.DataFrame(log_list)"
   ],
   "metadata": {
    "collapsed": false
   }
  },
  {
   "cell_type": "code",
   "execution_count": 4,
   "outputs": [
    {
     "data": {
      "text/plain": "                                                      0                1   \\\n0                         \"timestamp\",\"source\",\"message\"             None   \n1      \"2023-02-21T00:00:05.671+08:00\",\"k8smaster001\"...   118.178.15.71    \n2      \"2023-02-21T00:00:05.672+08:00\",\"k8smaster001\"...   120.27.173.49    \n3      \"2023-02-21T00:00:12.674+08:00\",\"k8smaster001\"...   120.27.173.54    \n4      \"2023-02-21T00:00:12.676+08:00\",\"k8smaster001\"...  118.178.15.118    \n...                                                  ...              ...   \n52406  \"2023-02-21T23:59:36.411+08:00\",\"k8smaster001\"...    120.27.173.8    \n52407  \"2023-02-21T23:59:39.414+08:00\",\"k8smaster001\"...   118.178.15.71    \n52408  \"2023-02-21T23:59:40.417+08:00\",\"k8smaster001\"...  118.178.15.106    \n52409  \"2023-02-21T23:59:55.420+08:00\",\"k8smaster001\"...  118.178.15.117    \n52410  \"2023-02-21T23:59:55.422+08:00\",\"k8smaster001\"...  118.178.15.104    \n\n                     2                 3     4                            5   \\\n0                  None              None  None                         None   \n1         39.130.70.89      39.130.70.89     -   20/Feb/2023:23:59:52 +0800    \n2        39.183.136.70     39.183.136.70     -   20/Feb/2023:23:59:56 +0800    \n3       49.119.194.146    49.119.194.146     -   21/Feb/2023:00:00:01 +0800    \n4       117.136.27.101    117.136.27.101     -   21/Feb/2023:00:00:01 +0800    \n...                 ...               ...   ...                          ...   \n52406    211.162.8.237     211.162.8.237     -   21/Feb/2023:23:59:24 +0800    \n52407   223.104.204.99    223.104.204.99     -   21/Feb/2023:23:59:29 +0800    \n52408  223.104.217.181   223.104.217.181     -   21/Feb/2023:23:59:30 +0800    \n52409   117.152.92.118    117.152.92.118     -   21/Feb/2023:23:59:40 +0800    \n52410   115.227.110.36    115.227.110.36     -   21/Feb/2023:23:59:45 +0800    \n\n                  6     7       8   \\\n0               None  None    None   \n1      db.yaozh.com   200   38440    \n2      db.yaozh.com   200   23155    \n3      db.yaozh.com   200   23968    \n4      db.yaozh.com   200   24021    \n...              ...   ...     ...   \n52406  db.yaozh.com   200   24460    \n52407  db.yaozh.com   200   26062    \n52408  db.yaozh.com   200   23660    \n52409  db.yaozh.com   200   23328    \n52410  db.yaozh.com   200   24216    \n\n                                                      9   ...      12    13  \\\n0                                                   None  ...    None  None   \n1      https://m.baidu.com/?eqid=4e4e3b90b297b42a1000...  ...  1.033   200    \n2                                  https://m.baidu.com/   ...  0.585   200    \n3                                  https://m.baidu.com/   ...  0.912   200    \n4                                  https://m.baidu.com/   ...  0.879   200    \n...                                                  ...  ...     ...   ...   \n52406                              https://m.baidu.com/   ...  1.062   200    \n52407                              https://m.baidu.com/   ...  1.166   200    \n52408                              https://m.baidu.com/   ...  0.531   200    \n52409                              https://m.baidu.com/   ...  0.569   200    \n52410  https://www.baidu.com/link?url=Hs46Wu8d8nonbDI...  ...  0.950   200    \n\n                        14      15    16    17    18    19    20  \\\n0                     None    None  None  None  None  None  None   \n1      10.29.189.185:9989   1.015     -     -     -     -     -    \n2       10.46.228.27:9989   0.566     -     -     -     -     -    \n3       10.46.228.27:9989   0.894     -     -     -     -     -    \n4       10.81.44.201:9989   0.860     -     -     -     -     -    \n...                    ...     ...   ...   ...   ...   ...   ...   \n52406  10.29.189.185:9989   1.044     -     -     -     -     -    \n52407    10.81.44.54:9989   1.147     -     -     -     -     -    \n52408   10.46.228.27:9989   0.514     -     -     -     -     -    \n52409   10.81.44.201:9989   0.545     -     -     -     -     -    \n52410   10.81.44.201:9989   0.933     -     -     -     -     -    \n\n                                      21  \n0                                   None  \n1      34d66395a960e79122d36fedda64af4b\"  \n2      7c01d6267c4f344c81e331b19ed9f506\"  \n3      47668145d9064d166c7b3e84219e85ab\"  \n4      d65cdb6c3f42369f3dddf3dfb2c6ce81\"  \n...                                  ...  \n52406  420b9574f84d214daf9f2f644291dff7\"  \n52407  d9a05f569454610580c2e5ba08bf7ce2\"  \n52408  d74c446990ea391061908fc86965092c\"  \n52409  4d7f89daee972c45c56b3a29de0f7dfc\"  \n52410  9b442e74e9faf723a5881fdf021cdc57\"  \n\n[52411 rows x 22 columns]",
      "text/html": "<div>\n<style scoped>\n    .dataframe tbody tr th:only-of-type {\n        vertical-align: middle;\n    }\n\n    .dataframe tbody tr th {\n        vertical-align: top;\n    }\n\n    .dataframe thead th {\n        text-align: right;\n    }\n</style>\n<table border=\"1\" class=\"dataframe\">\n  <thead>\n    <tr style=\"text-align: right;\">\n      <th></th>\n      <th>0</th>\n      <th>1</th>\n      <th>2</th>\n      <th>3</th>\n      <th>4</th>\n      <th>5</th>\n      <th>6</th>\n      <th>7</th>\n      <th>8</th>\n      <th>9</th>\n      <th>...</th>\n      <th>12</th>\n      <th>13</th>\n      <th>14</th>\n      <th>15</th>\n      <th>16</th>\n      <th>17</th>\n      <th>18</th>\n      <th>19</th>\n      <th>20</th>\n      <th>21</th>\n    </tr>\n  </thead>\n  <tbody>\n    <tr>\n      <th>0</th>\n      <td>\"timestamp\",\"source\",\"message\"</td>\n      <td>None</td>\n      <td>None</td>\n      <td>None</td>\n      <td>None</td>\n      <td>None</td>\n      <td>None</td>\n      <td>None</td>\n      <td>None</td>\n      <td>None</td>\n      <td>...</td>\n      <td>None</td>\n      <td>None</td>\n      <td>None</td>\n      <td>None</td>\n      <td>None</td>\n      <td>None</td>\n      <td>None</td>\n      <td>None</td>\n      <td>None</td>\n      <td>None</td>\n    </tr>\n    <tr>\n      <th>1</th>\n      <td>\"2023-02-21T00:00:05.671+08:00\",\"k8smaster001\"...</td>\n      <td>118.178.15.71</td>\n      <td>39.130.70.89</td>\n      <td>39.130.70.89</td>\n      <td>-</td>\n      <td>20/Feb/2023:23:59:52 +0800</td>\n      <td>db.yaozh.com</td>\n      <td>200</td>\n      <td>38440</td>\n      <td>https://m.baidu.com/?eqid=4e4e3b90b297b42a1000...</td>\n      <td>...</td>\n      <td>1.033</td>\n      <td>200</td>\n      <td>10.29.189.185:9989</td>\n      <td>1.015</td>\n      <td>-</td>\n      <td>-</td>\n      <td>-</td>\n      <td>-</td>\n      <td>-</td>\n      <td>34d66395a960e79122d36fedda64af4b\"</td>\n    </tr>\n    <tr>\n      <th>2</th>\n      <td>\"2023-02-21T00:00:05.672+08:00\",\"k8smaster001\"...</td>\n      <td>120.27.173.49</td>\n      <td>39.183.136.70</td>\n      <td>39.183.136.70</td>\n      <td>-</td>\n      <td>20/Feb/2023:23:59:56 +0800</td>\n      <td>db.yaozh.com</td>\n      <td>200</td>\n      <td>23155</td>\n      <td>https://m.baidu.com/</td>\n      <td>...</td>\n      <td>0.585</td>\n      <td>200</td>\n      <td>10.46.228.27:9989</td>\n      <td>0.566</td>\n      <td>-</td>\n      <td>-</td>\n      <td>-</td>\n      <td>-</td>\n      <td>-</td>\n      <td>7c01d6267c4f344c81e331b19ed9f506\"</td>\n    </tr>\n    <tr>\n      <th>3</th>\n      <td>\"2023-02-21T00:00:12.674+08:00\",\"k8smaster001\"...</td>\n      <td>120.27.173.54</td>\n      <td>49.119.194.146</td>\n      <td>49.119.194.146</td>\n      <td>-</td>\n      <td>21/Feb/2023:00:00:01 +0800</td>\n      <td>db.yaozh.com</td>\n      <td>200</td>\n      <td>23968</td>\n      <td>https://m.baidu.com/</td>\n      <td>...</td>\n      <td>0.912</td>\n      <td>200</td>\n      <td>10.46.228.27:9989</td>\n      <td>0.894</td>\n      <td>-</td>\n      <td>-</td>\n      <td>-</td>\n      <td>-</td>\n      <td>-</td>\n      <td>47668145d9064d166c7b3e84219e85ab\"</td>\n    </tr>\n    <tr>\n      <th>4</th>\n      <td>\"2023-02-21T00:00:12.676+08:00\",\"k8smaster001\"...</td>\n      <td>118.178.15.118</td>\n      <td>117.136.27.101</td>\n      <td>117.136.27.101</td>\n      <td>-</td>\n      <td>21/Feb/2023:00:00:01 +0800</td>\n      <td>db.yaozh.com</td>\n      <td>200</td>\n      <td>24021</td>\n      <td>https://m.baidu.com/</td>\n      <td>...</td>\n      <td>0.879</td>\n      <td>200</td>\n      <td>10.81.44.201:9989</td>\n      <td>0.860</td>\n      <td>-</td>\n      <td>-</td>\n      <td>-</td>\n      <td>-</td>\n      <td>-</td>\n      <td>d65cdb6c3f42369f3dddf3dfb2c6ce81\"</td>\n    </tr>\n    <tr>\n      <th>...</th>\n      <td>...</td>\n      <td>...</td>\n      <td>...</td>\n      <td>...</td>\n      <td>...</td>\n      <td>...</td>\n      <td>...</td>\n      <td>...</td>\n      <td>...</td>\n      <td>...</td>\n      <td>...</td>\n      <td>...</td>\n      <td>...</td>\n      <td>...</td>\n      <td>...</td>\n      <td>...</td>\n      <td>...</td>\n      <td>...</td>\n      <td>...</td>\n      <td>...</td>\n      <td>...</td>\n    </tr>\n    <tr>\n      <th>52406</th>\n      <td>\"2023-02-21T23:59:36.411+08:00\",\"k8smaster001\"...</td>\n      <td>120.27.173.8</td>\n      <td>211.162.8.237</td>\n      <td>211.162.8.237</td>\n      <td>-</td>\n      <td>21/Feb/2023:23:59:24 +0800</td>\n      <td>db.yaozh.com</td>\n      <td>200</td>\n      <td>24460</td>\n      <td>https://m.baidu.com/</td>\n      <td>...</td>\n      <td>1.062</td>\n      <td>200</td>\n      <td>10.29.189.185:9989</td>\n      <td>1.044</td>\n      <td>-</td>\n      <td>-</td>\n      <td>-</td>\n      <td>-</td>\n      <td>-</td>\n      <td>420b9574f84d214daf9f2f644291dff7\"</td>\n    </tr>\n    <tr>\n      <th>52407</th>\n      <td>\"2023-02-21T23:59:39.414+08:00\",\"k8smaster001\"...</td>\n      <td>118.178.15.71</td>\n      <td>223.104.204.99</td>\n      <td>223.104.204.99</td>\n      <td>-</td>\n      <td>21/Feb/2023:23:59:29 +0800</td>\n      <td>db.yaozh.com</td>\n      <td>200</td>\n      <td>26062</td>\n      <td>https://m.baidu.com/</td>\n      <td>...</td>\n      <td>1.166</td>\n      <td>200</td>\n      <td>10.81.44.54:9989</td>\n      <td>1.147</td>\n      <td>-</td>\n      <td>-</td>\n      <td>-</td>\n      <td>-</td>\n      <td>-</td>\n      <td>d9a05f569454610580c2e5ba08bf7ce2\"</td>\n    </tr>\n    <tr>\n      <th>52408</th>\n      <td>\"2023-02-21T23:59:40.417+08:00\",\"k8smaster001\"...</td>\n      <td>118.178.15.106</td>\n      <td>223.104.217.181</td>\n      <td>223.104.217.181</td>\n      <td>-</td>\n      <td>21/Feb/2023:23:59:30 +0800</td>\n      <td>db.yaozh.com</td>\n      <td>200</td>\n      <td>23660</td>\n      <td>https://m.baidu.com/</td>\n      <td>...</td>\n      <td>0.531</td>\n      <td>200</td>\n      <td>10.46.228.27:9989</td>\n      <td>0.514</td>\n      <td>-</td>\n      <td>-</td>\n      <td>-</td>\n      <td>-</td>\n      <td>-</td>\n      <td>d74c446990ea391061908fc86965092c\"</td>\n    </tr>\n    <tr>\n      <th>52409</th>\n      <td>\"2023-02-21T23:59:55.420+08:00\",\"k8smaster001\"...</td>\n      <td>118.178.15.117</td>\n      <td>117.152.92.118</td>\n      <td>117.152.92.118</td>\n      <td>-</td>\n      <td>21/Feb/2023:23:59:40 +0800</td>\n      <td>db.yaozh.com</td>\n      <td>200</td>\n      <td>23328</td>\n      <td>https://m.baidu.com/</td>\n      <td>...</td>\n      <td>0.569</td>\n      <td>200</td>\n      <td>10.81.44.201:9989</td>\n      <td>0.545</td>\n      <td>-</td>\n      <td>-</td>\n      <td>-</td>\n      <td>-</td>\n      <td>-</td>\n      <td>4d7f89daee972c45c56b3a29de0f7dfc\"</td>\n    </tr>\n    <tr>\n      <th>52410</th>\n      <td>\"2023-02-21T23:59:55.422+08:00\",\"k8smaster001\"...</td>\n      <td>118.178.15.104</td>\n      <td>115.227.110.36</td>\n      <td>115.227.110.36</td>\n      <td>-</td>\n      <td>21/Feb/2023:23:59:45 +0800</td>\n      <td>db.yaozh.com</td>\n      <td>200</td>\n      <td>24216</td>\n      <td>https://www.baidu.com/link?url=Hs46Wu8d8nonbDI...</td>\n      <td>...</td>\n      <td>0.950</td>\n      <td>200</td>\n      <td>10.81.44.201:9989</td>\n      <td>0.933</td>\n      <td>-</td>\n      <td>-</td>\n      <td>-</td>\n      <td>-</td>\n      <td>-</td>\n      <td>9b442e74e9faf723a5881fdf021cdc57\"</td>\n    </tr>\n  </tbody>\n</table>\n<p>52411 rows × 22 columns</p>\n</div>"
     },
     "execution_count": 4,
     "metadata": {},
     "output_type": "execute_result"
    }
   ],
   "source": [
    "df"
   ],
   "metadata": {
    "collapsed": false
   }
  },
  {
   "cell_type": "code",
   "execution_count": 8,
   "outputs": [],
   "source": [
    "df = df.drop(0)"
   ],
   "metadata": {
    "collapsed": false
   }
  },
  {
   "cell_type": "code",
   "execution_count": 9,
   "outputs": [],
   "source": [
    "log_df = df[[3,5,7,9,10]]"
   ],
   "metadata": {
    "collapsed": false
   }
  },
  {
   "cell_type": "code",
   "execution_count": 10,
   "outputs": [
    {
     "data": {
      "text/plain": "                     3                            5     7   \\\n1         39.130.70.89   20/Feb/2023:23:59:52 +0800   200    \n2        39.183.136.70   20/Feb/2023:23:59:56 +0800   200    \n3       49.119.194.146   21/Feb/2023:00:00:01 +0800   200    \n4       117.136.27.101   21/Feb/2023:00:00:01 +0800   200    \n5         1.80.144.129   21/Feb/2023:00:00:08 +0800   200    \n...                 ...                          ...   ...   \n52406    211.162.8.237   21/Feb/2023:23:59:24 +0800   200    \n52407   223.104.204.99   21/Feb/2023:23:59:29 +0800   200    \n52408  223.104.217.181   21/Feb/2023:23:59:30 +0800   200    \n52409   117.152.92.118   21/Feb/2023:23:59:40 +0800   200    \n52410   115.227.110.36   21/Feb/2023:23:59:45 +0800   200    \n\n                                                      9   \\\n1      https://m.baidu.com/?eqid=4e4e3b90b297b42a1000...   \n2                                  https://m.baidu.com/    \n3                                  https://m.baidu.com/    \n4                                  https://m.baidu.com/    \n5                                  https://m.baidu.com/    \n...                                                  ...   \n52406                              https://m.baidu.com/    \n52407                              https://m.baidu.com/    \n52408                              https://m.baidu.com/    \n52409                              https://m.baidu.com/    \n52410  https://www.baidu.com/link?url=Hs46Wu8d8nonbDI...   \n\n                                                     10  \n1                    GET /instruct/28360.html HTTP/1.1   \n2                  GET /zhongyaocai/5705.html HTTP/1.1   \n3                    GET /instruct/42092.html HTTP/1.1   \n4                      GET /instruct/382.html HTTP/1.1   \n5                     GET /instruct/3971.html HTTP/1.1   \n...                                                 ...  \n52406  GET /jinkoujixie/7080872220000019.html HTTP/1.1   \n52407                 GET /instruct/1530.html HTTP/1.1   \n52408    GET /yaocai_bz/6872749390000036.html HTTP/1.1   \n52409    GET /yaocai_bz/6872749740000043.html HTTP/1.1   \n52410        GET /jixie/7116235560000035.html HTTP/1.1   \n\n[52410 rows x 5 columns]",
      "text/html": "<div>\n<style scoped>\n    .dataframe tbody tr th:only-of-type {\n        vertical-align: middle;\n    }\n\n    .dataframe tbody tr th {\n        vertical-align: top;\n    }\n\n    .dataframe thead th {\n        text-align: right;\n    }\n</style>\n<table border=\"1\" class=\"dataframe\">\n  <thead>\n    <tr style=\"text-align: right;\">\n      <th></th>\n      <th>3</th>\n      <th>5</th>\n      <th>7</th>\n      <th>9</th>\n      <th>10</th>\n    </tr>\n  </thead>\n  <tbody>\n    <tr>\n      <th>1</th>\n      <td>39.130.70.89</td>\n      <td>20/Feb/2023:23:59:52 +0800</td>\n      <td>200</td>\n      <td>https://m.baidu.com/?eqid=4e4e3b90b297b42a1000...</td>\n      <td>GET /instruct/28360.html HTTP/1.1</td>\n    </tr>\n    <tr>\n      <th>2</th>\n      <td>39.183.136.70</td>\n      <td>20/Feb/2023:23:59:56 +0800</td>\n      <td>200</td>\n      <td>https://m.baidu.com/</td>\n      <td>GET /zhongyaocai/5705.html HTTP/1.1</td>\n    </tr>\n    <tr>\n      <th>3</th>\n      <td>49.119.194.146</td>\n      <td>21/Feb/2023:00:00:01 +0800</td>\n      <td>200</td>\n      <td>https://m.baidu.com/</td>\n      <td>GET /instruct/42092.html HTTP/1.1</td>\n    </tr>\n    <tr>\n      <th>4</th>\n      <td>117.136.27.101</td>\n      <td>21/Feb/2023:00:00:01 +0800</td>\n      <td>200</td>\n      <td>https://m.baidu.com/</td>\n      <td>GET /instruct/382.html HTTP/1.1</td>\n    </tr>\n    <tr>\n      <th>5</th>\n      <td>1.80.144.129</td>\n      <td>21/Feb/2023:00:00:08 +0800</td>\n      <td>200</td>\n      <td>https://m.baidu.com/</td>\n      <td>GET /instruct/3971.html HTTP/1.1</td>\n    </tr>\n    <tr>\n      <th>...</th>\n      <td>...</td>\n      <td>...</td>\n      <td>...</td>\n      <td>...</td>\n      <td>...</td>\n    </tr>\n    <tr>\n      <th>52406</th>\n      <td>211.162.8.237</td>\n      <td>21/Feb/2023:23:59:24 +0800</td>\n      <td>200</td>\n      <td>https://m.baidu.com/</td>\n      <td>GET /jinkoujixie/7080872220000019.html HTTP/1.1</td>\n    </tr>\n    <tr>\n      <th>52407</th>\n      <td>223.104.204.99</td>\n      <td>21/Feb/2023:23:59:29 +0800</td>\n      <td>200</td>\n      <td>https://m.baidu.com/</td>\n      <td>GET /instruct/1530.html HTTP/1.1</td>\n    </tr>\n    <tr>\n      <th>52408</th>\n      <td>223.104.217.181</td>\n      <td>21/Feb/2023:23:59:30 +0800</td>\n      <td>200</td>\n      <td>https://m.baidu.com/</td>\n      <td>GET /yaocai_bz/6872749390000036.html HTTP/1.1</td>\n    </tr>\n    <tr>\n      <th>52409</th>\n      <td>117.152.92.118</td>\n      <td>21/Feb/2023:23:59:40 +0800</td>\n      <td>200</td>\n      <td>https://m.baidu.com/</td>\n      <td>GET /yaocai_bz/6872749740000043.html HTTP/1.1</td>\n    </tr>\n    <tr>\n      <th>52410</th>\n      <td>115.227.110.36</td>\n      <td>21/Feb/2023:23:59:45 +0800</td>\n      <td>200</td>\n      <td>https://www.baidu.com/link?url=Hs46Wu8d8nonbDI...</td>\n      <td>GET /jixie/7116235560000035.html HTTP/1.1</td>\n    </tr>\n  </tbody>\n</table>\n<p>52410 rows × 5 columns</p>\n</div>"
     },
     "execution_count": 10,
     "metadata": {},
     "output_type": "execute_result"
    }
   ],
   "source": [
    "log_df"
   ],
   "metadata": {
    "collapsed": false
   }
  },
  {
   "cell_type": "code",
   "execution_count": 11,
   "outputs": [],
   "source": [
    "log_df.columns=['ip','date','http-code','refer','method']"
   ],
   "metadata": {
    "collapsed": false
   }
  },
  {
   "cell_type": "code",
   "execution_count": 12,
   "outputs": [
    {
     "data": {
      "text/plain": "                     ip                         date http-code  \\\n1         39.130.70.89   20/Feb/2023:23:59:52 +0800       200    \n2        39.183.136.70   20/Feb/2023:23:59:56 +0800       200    \n3       49.119.194.146   21/Feb/2023:00:00:01 +0800       200    \n4       117.136.27.101   21/Feb/2023:00:00:01 +0800       200    \n5         1.80.144.129   21/Feb/2023:00:00:08 +0800       200    \n...                 ...                          ...       ...   \n52406    211.162.8.237   21/Feb/2023:23:59:24 +0800       200    \n52407   223.104.204.99   21/Feb/2023:23:59:29 +0800       200    \n52408  223.104.217.181   21/Feb/2023:23:59:30 +0800       200    \n52409   117.152.92.118   21/Feb/2023:23:59:40 +0800       200    \n52410   115.227.110.36   21/Feb/2023:23:59:45 +0800       200    \n\n                                                   refer  \\\n1      https://m.baidu.com/?eqid=4e4e3b90b297b42a1000...   \n2                                  https://m.baidu.com/    \n3                                  https://m.baidu.com/    \n4                                  https://m.baidu.com/    \n5                                  https://m.baidu.com/    \n...                                                  ...   \n52406                              https://m.baidu.com/    \n52407                              https://m.baidu.com/    \n52408                              https://m.baidu.com/    \n52409                              https://m.baidu.com/    \n52410  https://www.baidu.com/link?url=Hs46Wu8d8nonbDI...   \n\n                                                 method  \n1                    GET /instruct/28360.html HTTP/1.1   \n2                  GET /zhongyaocai/5705.html HTTP/1.1   \n3                    GET /instruct/42092.html HTTP/1.1   \n4                      GET /instruct/382.html HTTP/1.1   \n5                     GET /instruct/3971.html HTTP/1.1   \n...                                                 ...  \n52406  GET /jinkoujixie/7080872220000019.html HTTP/1.1   \n52407                 GET /instruct/1530.html HTTP/1.1   \n52408    GET /yaocai_bz/6872749390000036.html HTTP/1.1   \n52409    GET /yaocai_bz/6872749740000043.html HTTP/1.1   \n52410        GET /jixie/7116235560000035.html HTTP/1.1   \n\n[52410 rows x 5 columns]",
      "text/html": "<div>\n<style scoped>\n    .dataframe tbody tr th:only-of-type {\n        vertical-align: middle;\n    }\n\n    .dataframe tbody tr th {\n        vertical-align: top;\n    }\n\n    .dataframe thead th {\n        text-align: right;\n    }\n</style>\n<table border=\"1\" class=\"dataframe\">\n  <thead>\n    <tr style=\"text-align: right;\">\n      <th></th>\n      <th>ip</th>\n      <th>date</th>\n      <th>http-code</th>\n      <th>refer</th>\n      <th>method</th>\n    </tr>\n  </thead>\n  <tbody>\n    <tr>\n      <th>1</th>\n      <td>39.130.70.89</td>\n      <td>20/Feb/2023:23:59:52 +0800</td>\n      <td>200</td>\n      <td>https://m.baidu.com/?eqid=4e4e3b90b297b42a1000...</td>\n      <td>GET /instruct/28360.html HTTP/1.1</td>\n    </tr>\n    <tr>\n      <th>2</th>\n      <td>39.183.136.70</td>\n      <td>20/Feb/2023:23:59:56 +0800</td>\n      <td>200</td>\n      <td>https://m.baidu.com/</td>\n      <td>GET /zhongyaocai/5705.html HTTP/1.1</td>\n    </tr>\n    <tr>\n      <th>3</th>\n      <td>49.119.194.146</td>\n      <td>21/Feb/2023:00:00:01 +0800</td>\n      <td>200</td>\n      <td>https://m.baidu.com/</td>\n      <td>GET /instruct/42092.html HTTP/1.1</td>\n    </tr>\n    <tr>\n      <th>4</th>\n      <td>117.136.27.101</td>\n      <td>21/Feb/2023:00:00:01 +0800</td>\n      <td>200</td>\n      <td>https://m.baidu.com/</td>\n      <td>GET /instruct/382.html HTTP/1.1</td>\n    </tr>\n    <tr>\n      <th>5</th>\n      <td>1.80.144.129</td>\n      <td>21/Feb/2023:00:00:08 +0800</td>\n      <td>200</td>\n      <td>https://m.baidu.com/</td>\n      <td>GET /instruct/3971.html HTTP/1.1</td>\n    </tr>\n    <tr>\n      <th>...</th>\n      <td>...</td>\n      <td>...</td>\n      <td>...</td>\n      <td>...</td>\n      <td>...</td>\n    </tr>\n    <tr>\n      <th>52406</th>\n      <td>211.162.8.237</td>\n      <td>21/Feb/2023:23:59:24 +0800</td>\n      <td>200</td>\n      <td>https://m.baidu.com/</td>\n      <td>GET /jinkoujixie/7080872220000019.html HTTP/1.1</td>\n    </tr>\n    <tr>\n      <th>52407</th>\n      <td>223.104.204.99</td>\n      <td>21/Feb/2023:23:59:29 +0800</td>\n      <td>200</td>\n      <td>https://m.baidu.com/</td>\n      <td>GET /instruct/1530.html HTTP/1.1</td>\n    </tr>\n    <tr>\n      <th>52408</th>\n      <td>223.104.217.181</td>\n      <td>21/Feb/2023:23:59:30 +0800</td>\n      <td>200</td>\n      <td>https://m.baidu.com/</td>\n      <td>GET /yaocai_bz/6872749390000036.html HTTP/1.1</td>\n    </tr>\n    <tr>\n      <th>52409</th>\n      <td>117.152.92.118</td>\n      <td>21/Feb/2023:23:59:40 +0800</td>\n      <td>200</td>\n      <td>https://m.baidu.com/</td>\n      <td>GET /yaocai_bz/6872749740000043.html HTTP/1.1</td>\n    </tr>\n    <tr>\n      <th>52410</th>\n      <td>115.227.110.36</td>\n      <td>21/Feb/2023:23:59:45 +0800</td>\n      <td>200</td>\n      <td>https://www.baidu.com/link?url=Hs46Wu8d8nonbDI...</td>\n      <td>GET /jixie/7116235560000035.html HTTP/1.1</td>\n    </tr>\n  </tbody>\n</table>\n<p>52410 rows × 5 columns</p>\n</div>"
     },
     "execution_count": 12,
     "metadata": {},
     "output_type": "execute_result"
    }
   ],
   "source": [
    "log_df"
   ],
   "metadata": {
    "collapsed": false
   }
  },
  {
   "cell_type": "code",
   "execution_count": 13,
   "outputs": [
    {
     "name": "stderr",
     "output_type": "stream",
     "text": [
      "C:\\Users\\Administrator\\AppData\\Local\\Temp\\ipykernel_6932\\3994563081.py:1: SettingWithCopyWarning: \n",
      "A value is trying to be set on a copy of a slice from a DataFrame.\n",
      "Try using .loc[row_indexer,col_indexer] = value instead\n",
      "\n",
      "See the caveats in the documentation: https://pandas.pydata.org/pandas-docs/stable/user_guide/indexing.html#returning-a-view-versus-a-copy\n",
      "  log_df['path'] = log_df['method'].apply(lambda x:x.split()[1])\n"
     ]
    }
   ],
   "source": [
    "log_df['path'] = log_df['method'].apply(lambda x:x.split()[1])"
   ],
   "metadata": {
    "collapsed": false
   }
  },
  {
   "cell_type": "code",
   "execution_count": 14,
   "outputs": [
    {
     "data": {
      "text/plain": "                     ip                         date http-code  \\\n1         39.130.70.89   20/Feb/2023:23:59:52 +0800       200    \n2        39.183.136.70   20/Feb/2023:23:59:56 +0800       200    \n3       49.119.194.146   21/Feb/2023:00:00:01 +0800       200    \n4       117.136.27.101   21/Feb/2023:00:00:01 +0800       200    \n5         1.80.144.129   21/Feb/2023:00:00:08 +0800       200    \n...                 ...                          ...       ...   \n52406    211.162.8.237   21/Feb/2023:23:59:24 +0800       200    \n52407   223.104.204.99   21/Feb/2023:23:59:29 +0800       200    \n52408  223.104.217.181   21/Feb/2023:23:59:30 +0800       200    \n52409   117.152.92.118   21/Feb/2023:23:59:40 +0800       200    \n52410   115.227.110.36   21/Feb/2023:23:59:45 +0800       200    \n\n                                                   refer  \\\n1      https://m.baidu.com/?eqid=4e4e3b90b297b42a1000...   \n2                                  https://m.baidu.com/    \n3                                  https://m.baidu.com/    \n4                                  https://m.baidu.com/    \n5                                  https://m.baidu.com/    \n...                                                  ...   \n52406                              https://m.baidu.com/    \n52407                              https://m.baidu.com/    \n52408                              https://m.baidu.com/    \n52409                              https://m.baidu.com/    \n52410  https://www.baidu.com/link?url=Hs46Wu8d8nonbDI...   \n\n                                                 method  \\\n1                    GET /instruct/28360.html HTTP/1.1    \n2                  GET /zhongyaocai/5705.html HTTP/1.1    \n3                    GET /instruct/42092.html HTTP/1.1    \n4                      GET /instruct/382.html HTTP/1.1    \n5                     GET /instruct/3971.html HTTP/1.1    \n...                                                 ...   \n52406  GET /jinkoujixie/7080872220000019.html HTTP/1.1    \n52407                 GET /instruct/1530.html HTTP/1.1    \n52408    GET /yaocai_bz/6872749390000036.html HTTP/1.1    \n52409    GET /yaocai_bz/6872749740000043.html HTTP/1.1    \n52410        GET /jixie/7116235560000035.html HTTP/1.1    \n\n                                     path  \n1                    /instruct/28360.html  \n2                  /zhongyaocai/5705.html  \n3                    /instruct/42092.html  \n4                      /instruct/382.html  \n5                     /instruct/3971.html  \n...                                   ...  \n52406  /jinkoujixie/7080872220000019.html  \n52407                 /instruct/1530.html  \n52408    /yaocai_bz/6872749390000036.html  \n52409    /yaocai_bz/6872749740000043.html  \n52410        /jixie/7116235560000035.html  \n\n[52410 rows x 6 columns]",
      "text/html": "<div>\n<style scoped>\n    .dataframe tbody tr th:only-of-type {\n        vertical-align: middle;\n    }\n\n    .dataframe tbody tr th {\n        vertical-align: top;\n    }\n\n    .dataframe thead th {\n        text-align: right;\n    }\n</style>\n<table border=\"1\" class=\"dataframe\">\n  <thead>\n    <tr style=\"text-align: right;\">\n      <th></th>\n      <th>ip</th>\n      <th>date</th>\n      <th>http-code</th>\n      <th>refer</th>\n      <th>method</th>\n      <th>path</th>\n    </tr>\n  </thead>\n  <tbody>\n    <tr>\n      <th>1</th>\n      <td>39.130.70.89</td>\n      <td>20/Feb/2023:23:59:52 +0800</td>\n      <td>200</td>\n      <td>https://m.baidu.com/?eqid=4e4e3b90b297b42a1000...</td>\n      <td>GET /instruct/28360.html HTTP/1.1</td>\n      <td>/instruct/28360.html</td>\n    </tr>\n    <tr>\n      <th>2</th>\n      <td>39.183.136.70</td>\n      <td>20/Feb/2023:23:59:56 +0800</td>\n      <td>200</td>\n      <td>https://m.baidu.com/</td>\n      <td>GET /zhongyaocai/5705.html HTTP/1.1</td>\n      <td>/zhongyaocai/5705.html</td>\n    </tr>\n    <tr>\n      <th>3</th>\n      <td>49.119.194.146</td>\n      <td>21/Feb/2023:00:00:01 +0800</td>\n      <td>200</td>\n      <td>https://m.baidu.com/</td>\n      <td>GET /instruct/42092.html HTTP/1.1</td>\n      <td>/instruct/42092.html</td>\n    </tr>\n    <tr>\n      <th>4</th>\n      <td>117.136.27.101</td>\n      <td>21/Feb/2023:00:00:01 +0800</td>\n      <td>200</td>\n      <td>https://m.baidu.com/</td>\n      <td>GET /instruct/382.html HTTP/1.1</td>\n      <td>/instruct/382.html</td>\n    </tr>\n    <tr>\n      <th>5</th>\n      <td>1.80.144.129</td>\n      <td>21/Feb/2023:00:00:08 +0800</td>\n      <td>200</td>\n      <td>https://m.baidu.com/</td>\n      <td>GET /instruct/3971.html HTTP/1.1</td>\n      <td>/instruct/3971.html</td>\n    </tr>\n    <tr>\n      <th>...</th>\n      <td>...</td>\n      <td>...</td>\n      <td>...</td>\n      <td>...</td>\n      <td>...</td>\n      <td>...</td>\n    </tr>\n    <tr>\n      <th>52406</th>\n      <td>211.162.8.237</td>\n      <td>21/Feb/2023:23:59:24 +0800</td>\n      <td>200</td>\n      <td>https://m.baidu.com/</td>\n      <td>GET /jinkoujixie/7080872220000019.html HTTP/1.1</td>\n      <td>/jinkoujixie/7080872220000019.html</td>\n    </tr>\n    <tr>\n      <th>52407</th>\n      <td>223.104.204.99</td>\n      <td>21/Feb/2023:23:59:29 +0800</td>\n      <td>200</td>\n      <td>https://m.baidu.com/</td>\n      <td>GET /instruct/1530.html HTTP/1.1</td>\n      <td>/instruct/1530.html</td>\n    </tr>\n    <tr>\n      <th>52408</th>\n      <td>223.104.217.181</td>\n      <td>21/Feb/2023:23:59:30 +0800</td>\n      <td>200</td>\n      <td>https://m.baidu.com/</td>\n      <td>GET /yaocai_bz/6872749390000036.html HTTP/1.1</td>\n      <td>/yaocai_bz/6872749390000036.html</td>\n    </tr>\n    <tr>\n      <th>52409</th>\n      <td>117.152.92.118</td>\n      <td>21/Feb/2023:23:59:40 +0800</td>\n      <td>200</td>\n      <td>https://m.baidu.com/</td>\n      <td>GET /yaocai_bz/6872749740000043.html HTTP/1.1</td>\n      <td>/yaocai_bz/6872749740000043.html</td>\n    </tr>\n    <tr>\n      <th>52410</th>\n      <td>115.227.110.36</td>\n      <td>21/Feb/2023:23:59:45 +0800</td>\n      <td>200</td>\n      <td>https://www.baidu.com/link?url=Hs46Wu8d8nonbDI...</td>\n      <td>GET /jixie/7116235560000035.html HTTP/1.1</td>\n      <td>/jixie/7116235560000035.html</td>\n    </tr>\n  </tbody>\n</table>\n<p>52410 rows × 6 columns</p>\n</div>"
     },
     "execution_count": 14,
     "metadata": {},
     "output_type": "execute_result"
    }
   ],
   "source": [
    "log_df"
   ],
   "metadata": {
    "collapsed": false
   }
  },
  {
   "cell_type": "code",
   "execution_count": 15,
   "outputs": [],
   "source": [
    "from furl import  furl"
   ],
   "metadata": {
    "collapsed": false
   }
  },
  {
   "cell_type": "code",
   "execution_count": 16,
   "outputs": [
    {
     "name": "stderr",
     "output_type": "stream",
     "text": [
      "C:\\Users\\Administrator\\AppData\\Local\\Temp\\ipykernel_6932\\743368869.py:1: SettingWithCopyWarning: \n",
      "A value is trying to be set on a copy of a slice from a DataFrame.\n",
      "Try using .loc[row_indexer,col_indexer] = value instead\n",
      "\n",
      "See the caveats in the documentation: https://pandas.pydata.org/pandas-docs/stable/user_guide/indexing.html#returning-a-view-versus-a-copy\n",
      "  log_df['first_dir'] = log_df['path'].apply(lambda x:furl(x).path.segments[0])\n"
     ]
    }
   ],
   "source": [
    "log_df['first_dir'] = log_df['path'].apply(lambda x:furl(x).path.segments[0])"
   ],
   "metadata": {
    "collapsed": false
   }
  },
  {
   "cell_type": "code",
   "execution_count": 17,
   "outputs": [
    {
     "data": {
      "text/plain": "                     ip                         date http-code  \\\n1         39.130.70.89   20/Feb/2023:23:59:52 +0800       200    \n2        39.183.136.70   20/Feb/2023:23:59:56 +0800       200    \n3       49.119.194.146   21/Feb/2023:00:00:01 +0800       200    \n4       117.136.27.101   21/Feb/2023:00:00:01 +0800       200    \n5         1.80.144.129   21/Feb/2023:00:00:08 +0800       200    \n...                 ...                          ...       ...   \n52406    211.162.8.237   21/Feb/2023:23:59:24 +0800       200    \n52407   223.104.204.99   21/Feb/2023:23:59:29 +0800       200    \n52408  223.104.217.181   21/Feb/2023:23:59:30 +0800       200    \n52409   117.152.92.118   21/Feb/2023:23:59:40 +0800       200    \n52410   115.227.110.36   21/Feb/2023:23:59:45 +0800       200    \n\n                                                   refer  \\\n1      https://m.baidu.com/?eqid=4e4e3b90b297b42a1000...   \n2                                  https://m.baidu.com/    \n3                                  https://m.baidu.com/    \n4                                  https://m.baidu.com/    \n5                                  https://m.baidu.com/    \n...                                                  ...   \n52406                              https://m.baidu.com/    \n52407                              https://m.baidu.com/    \n52408                              https://m.baidu.com/    \n52409                              https://m.baidu.com/    \n52410  https://www.baidu.com/link?url=Hs46Wu8d8nonbDI...   \n\n                                                 method  \\\n1                    GET /instruct/28360.html HTTP/1.1    \n2                  GET /zhongyaocai/5705.html HTTP/1.1    \n3                    GET /instruct/42092.html HTTP/1.1    \n4                      GET /instruct/382.html HTTP/1.1    \n5                     GET /instruct/3971.html HTTP/1.1    \n...                                                 ...   \n52406  GET /jinkoujixie/7080872220000019.html HTTP/1.1    \n52407                 GET /instruct/1530.html HTTP/1.1    \n52408    GET /yaocai_bz/6872749390000036.html HTTP/1.1    \n52409    GET /yaocai_bz/6872749740000043.html HTTP/1.1    \n52410        GET /jixie/7116235560000035.html HTTP/1.1    \n\n                                     path    first_dir  \n1                    /instruct/28360.html     instruct  \n2                  /zhongyaocai/5705.html  zhongyaocai  \n3                    /instruct/42092.html     instruct  \n4                      /instruct/382.html     instruct  \n5                     /instruct/3971.html     instruct  \n...                                   ...          ...  \n52406  /jinkoujixie/7080872220000019.html  jinkoujixie  \n52407                 /instruct/1530.html     instruct  \n52408    /yaocai_bz/6872749390000036.html    yaocai_bz  \n52409    /yaocai_bz/6872749740000043.html    yaocai_bz  \n52410        /jixie/7116235560000035.html        jixie  \n\n[52410 rows x 7 columns]",
      "text/html": "<div>\n<style scoped>\n    .dataframe tbody tr th:only-of-type {\n        vertical-align: middle;\n    }\n\n    .dataframe tbody tr th {\n        vertical-align: top;\n    }\n\n    .dataframe thead th {\n        text-align: right;\n    }\n</style>\n<table border=\"1\" class=\"dataframe\">\n  <thead>\n    <tr style=\"text-align: right;\">\n      <th></th>\n      <th>ip</th>\n      <th>date</th>\n      <th>http-code</th>\n      <th>refer</th>\n      <th>method</th>\n      <th>path</th>\n      <th>first_dir</th>\n    </tr>\n  </thead>\n  <tbody>\n    <tr>\n      <th>1</th>\n      <td>39.130.70.89</td>\n      <td>20/Feb/2023:23:59:52 +0800</td>\n      <td>200</td>\n      <td>https://m.baidu.com/?eqid=4e4e3b90b297b42a1000...</td>\n      <td>GET /instruct/28360.html HTTP/1.1</td>\n      <td>/instruct/28360.html</td>\n      <td>instruct</td>\n    </tr>\n    <tr>\n      <th>2</th>\n      <td>39.183.136.70</td>\n      <td>20/Feb/2023:23:59:56 +0800</td>\n      <td>200</td>\n      <td>https://m.baidu.com/</td>\n      <td>GET /zhongyaocai/5705.html HTTP/1.1</td>\n      <td>/zhongyaocai/5705.html</td>\n      <td>zhongyaocai</td>\n    </tr>\n    <tr>\n      <th>3</th>\n      <td>49.119.194.146</td>\n      <td>21/Feb/2023:00:00:01 +0800</td>\n      <td>200</td>\n      <td>https://m.baidu.com/</td>\n      <td>GET /instruct/42092.html HTTP/1.1</td>\n      <td>/instruct/42092.html</td>\n      <td>instruct</td>\n    </tr>\n    <tr>\n      <th>4</th>\n      <td>117.136.27.101</td>\n      <td>21/Feb/2023:00:00:01 +0800</td>\n      <td>200</td>\n      <td>https://m.baidu.com/</td>\n      <td>GET /instruct/382.html HTTP/1.1</td>\n      <td>/instruct/382.html</td>\n      <td>instruct</td>\n    </tr>\n    <tr>\n      <th>5</th>\n      <td>1.80.144.129</td>\n      <td>21/Feb/2023:00:00:08 +0800</td>\n      <td>200</td>\n      <td>https://m.baidu.com/</td>\n      <td>GET /instruct/3971.html HTTP/1.1</td>\n      <td>/instruct/3971.html</td>\n      <td>instruct</td>\n    </tr>\n    <tr>\n      <th>...</th>\n      <td>...</td>\n      <td>...</td>\n      <td>...</td>\n      <td>...</td>\n      <td>...</td>\n      <td>...</td>\n      <td>...</td>\n    </tr>\n    <tr>\n      <th>52406</th>\n      <td>211.162.8.237</td>\n      <td>21/Feb/2023:23:59:24 +0800</td>\n      <td>200</td>\n      <td>https://m.baidu.com/</td>\n      <td>GET /jinkoujixie/7080872220000019.html HTTP/1.1</td>\n      <td>/jinkoujixie/7080872220000019.html</td>\n      <td>jinkoujixie</td>\n    </tr>\n    <tr>\n      <th>52407</th>\n      <td>223.104.204.99</td>\n      <td>21/Feb/2023:23:59:29 +0800</td>\n      <td>200</td>\n      <td>https://m.baidu.com/</td>\n      <td>GET /instruct/1530.html HTTP/1.1</td>\n      <td>/instruct/1530.html</td>\n      <td>instruct</td>\n    </tr>\n    <tr>\n      <th>52408</th>\n      <td>223.104.217.181</td>\n      <td>21/Feb/2023:23:59:30 +0800</td>\n      <td>200</td>\n      <td>https://m.baidu.com/</td>\n      <td>GET /yaocai_bz/6872749390000036.html HTTP/1.1</td>\n      <td>/yaocai_bz/6872749390000036.html</td>\n      <td>yaocai_bz</td>\n    </tr>\n    <tr>\n      <th>52409</th>\n      <td>117.152.92.118</td>\n      <td>21/Feb/2023:23:59:40 +0800</td>\n      <td>200</td>\n      <td>https://m.baidu.com/</td>\n      <td>GET /yaocai_bz/6872749740000043.html HTTP/1.1</td>\n      <td>/yaocai_bz/6872749740000043.html</td>\n      <td>yaocai_bz</td>\n    </tr>\n    <tr>\n      <th>52410</th>\n      <td>115.227.110.36</td>\n      <td>21/Feb/2023:23:59:45 +0800</td>\n      <td>200</td>\n      <td>https://www.baidu.com/link?url=Hs46Wu8d8nonbDI...</td>\n      <td>GET /jixie/7116235560000035.html HTTP/1.1</td>\n      <td>/jixie/7116235560000035.html</td>\n      <td>jixie</td>\n    </tr>\n  </tbody>\n</table>\n<p>52410 rows × 7 columns</p>\n</div>"
     },
     "execution_count": 17,
     "metadata": {},
     "output_type": "execute_result"
    }
   ],
   "source": [
    "log_df"
   ],
   "metadata": {
    "collapsed": false
   }
  },
  {
   "cell_type": "code",
   "execution_count": 18,
   "outputs": [
    {
     "data": {
      "text/plain": "instruct              19102\njixie                  7446\nzhongyaocai            7257\nyaocai_bz              2257\nyibao                  2099\n                      ...  \npqf                       1\nsyjbcf                    1\nsyzc                      1\nIR.html                   1\nanimalmodelnanjing        1\nName: first_dir, Length: 154, dtype: int64"
     },
     "execution_count": 18,
     "metadata": {},
     "output_type": "execute_result"
    }
   ],
   "source": [
    "log_df['first_dir'].value_counts()"
   ],
   "metadata": {
    "collapsed": false
   }
  },
  {
   "cell_type": "code",
   "execution_count": null,
   "outputs": [],
   "source": [
    "# 统计详情页和列表页"
   ],
   "metadata": {
    "collapsed": false
   }
  },
  {
   "cell_type": "code",
   "execution_count": 19,
   "outputs": [],
   "source": [
    "def path_cat(x:str):\n",
    "    if '?' in x:\n",
    "        return \"列表\"\n",
    "    return \"详情\""
   ],
   "metadata": {
    "collapsed": false
   }
  },
  {
   "cell_type": "code",
   "execution_count": 20,
   "outputs": [
    {
     "name": "stderr",
     "output_type": "stream",
     "text": [
      "C:\\Users\\Administrator\\AppData\\Local\\Temp\\ipykernel_6932\\1145889978.py:1: SettingWithCopyWarning: \n",
      "A value is trying to be set on a copy of a slice from a DataFrame.\n",
      "Try using .loc[row_indexer,col_indexer] = value instead\n",
      "\n",
      "See the caveats in the documentation: https://pandas.pydata.org/pandas-docs/stable/user_guide/indexing.html#returning-a-view-versus-a-copy\n",
      "  log_df['page_cat'] = log_df['path'].apply(path_cat)\n"
     ]
    }
   ],
   "source": [
    "log_df['page_cat'] = log_df['path'].apply(path_cat)"
   ],
   "metadata": {
    "collapsed": false
   }
  },
  {
   "cell_type": "code",
   "execution_count": 21,
   "outputs": [
    {
     "data": {
      "text/plain": "                     ip                         date http-code  \\\n1         39.130.70.89   20/Feb/2023:23:59:52 +0800       200    \n2        39.183.136.70   20/Feb/2023:23:59:56 +0800       200    \n3       49.119.194.146   21/Feb/2023:00:00:01 +0800       200    \n4       117.136.27.101   21/Feb/2023:00:00:01 +0800       200    \n5         1.80.144.129   21/Feb/2023:00:00:08 +0800       200    \n...                 ...                          ...       ...   \n52406    211.162.8.237   21/Feb/2023:23:59:24 +0800       200    \n52407   223.104.204.99   21/Feb/2023:23:59:29 +0800       200    \n52408  223.104.217.181   21/Feb/2023:23:59:30 +0800       200    \n52409   117.152.92.118   21/Feb/2023:23:59:40 +0800       200    \n52410   115.227.110.36   21/Feb/2023:23:59:45 +0800       200    \n\n                                                   refer  \\\n1      https://m.baidu.com/?eqid=4e4e3b90b297b42a1000...   \n2                                  https://m.baidu.com/    \n3                                  https://m.baidu.com/    \n4                                  https://m.baidu.com/    \n5                                  https://m.baidu.com/    \n...                                                  ...   \n52406                              https://m.baidu.com/    \n52407                              https://m.baidu.com/    \n52408                              https://m.baidu.com/    \n52409                              https://m.baidu.com/    \n52410  https://www.baidu.com/link?url=Hs46Wu8d8nonbDI...   \n\n                                                 method  \\\n1                    GET /instruct/28360.html HTTP/1.1    \n2                  GET /zhongyaocai/5705.html HTTP/1.1    \n3                    GET /instruct/42092.html HTTP/1.1    \n4                      GET /instruct/382.html HTTP/1.1    \n5                     GET /instruct/3971.html HTTP/1.1    \n...                                                 ...   \n52406  GET /jinkoujixie/7080872220000019.html HTTP/1.1    \n52407                 GET /instruct/1530.html HTTP/1.1    \n52408    GET /yaocai_bz/6872749390000036.html HTTP/1.1    \n52409    GET /yaocai_bz/6872749740000043.html HTTP/1.1    \n52410        GET /jixie/7116235560000035.html HTTP/1.1    \n\n                                     path    first_dir page_cat  \n1                    /instruct/28360.html     instruct       详情  \n2                  /zhongyaocai/5705.html  zhongyaocai       详情  \n3                    /instruct/42092.html     instruct       详情  \n4                      /instruct/382.html     instruct       详情  \n5                     /instruct/3971.html     instruct       详情  \n...                                   ...          ...      ...  \n52406  /jinkoujixie/7080872220000019.html  jinkoujixie       详情  \n52407                 /instruct/1530.html     instruct       详情  \n52408    /yaocai_bz/6872749390000036.html    yaocai_bz       详情  \n52409    /yaocai_bz/6872749740000043.html    yaocai_bz       详情  \n52410        /jixie/7116235560000035.html        jixie       详情  \n\n[52410 rows x 8 columns]",
      "text/html": "<div>\n<style scoped>\n    .dataframe tbody tr th:only-of-type {\n        vertical-align: middle;\n    }\n\n    .dataframe tbody tr th {\n        vertical-align: top;\n    }\n\n    .dataframe thead th {\n        text-align: right;\n    }\n</style>\n<table border=\"1\" class=\"dataframe\">\n  <thead>\n    <tr style=\"text-align: right;\">\n      <th></th>\n      <th>ip</th>\n      <th>date</th>\n      <th>http-code</th>\n      <th>refer</th>\n      <th>method</th>\n      <th>path</th>\n      <th>first_dir</th>\n      <th>page_cat</th>\n    </tr>\n  </thead>\n  <tbody>\n    <tr>\n      <th>1</th>\n      <td>39.130.70.89</td>\n      <td>20/Feb/2023:23:59:52 +0800</td>\n      <td>200</td>\n      <td>https://m.baidu.com/?eqid=4e4e3b90b297b42a1000...</td>\n      <td>GET /instruct/28360.html HTTP/1.1</td>\n      <td>/instruct/28360.html</td>\n      <td>instruct</td>\n      <td>详情</td>\n    </tr>\n    <tr>\n      <th>2</th>\n      <td>39.183.136.70</td>\n      <td>20/Feb/2023:23:59:56 +0800</td>\n      <td>200</td>\n      <td>https://m.baidu.com/</td>\n      <td>GET /zhongyaocai/5705.html HTTP/1.1</td>\n      <td>/zhongyaocai/5705.html</td>\n      <td>zhongyaocai</td>\n      <td>详情</td>\n    </tr>\n    <tr>\n      <th>3</th>\n      <td>49.119.194.146</td>\n      <td>21/Feb/2023:00:00:01 +0800</td>\n      <td>200</td>\n      <td>https://m.baidu.com/</td>\n      <td>GET /instruct/42092.html HTTP/1.1</td>\n      <td>/instruct/42092.html</td>\n      <td>instruct</td>\n      <td>详情</td>\n    </tr>\n    <tr>\n      <th>4</th>\n      <td>117.136.27.101</td>\n      <td>21/Feb/2023:00:00:01 +0800</td>\n      <td>200</td>\n      <td>https://m.baidu.com/</td>\n      <td>GET /instruct/382.html HTTP/1.1</td>\n      <td>/instruct/382.html</td>\n      <td>instruct</td>\n      <td>详情</td>\n    </tr>\n    <tr>\n      <th>5</th>\n      <td>1.80.144.129</td>\n      <td>21/Feb/2023:00:00:08 +0800</td>\n      <td>200</td>\n      <td>https://m.baidu.com/</td>\n      <td>GET /instruct/3971.html HTTP/1.1</td>\n      <td>/instruct/3971.html</td>\n      <td>instruct</td>\n      <td>详情</td>\n    </tr>\n    <tr>\n      <th>...</th>\n      <td>...</td>\n      <td>...</td>\n      <td>...</td>\n      <td>...</td>\n      <td>...</td>\n      <td>...</td>\n      <td>...</td>\n      <td>...</td>\n    </tr>\n    <tr>\n      <th>52406</th>\n      <td>211.162.8.237</td>\n      <td>21/Feb/2023:23:59:24 +0800</td>\n      <td>200</td>\n      <td>https://m.baidu.com/</td>\n      <td>GET /jinkoujixie/7080872220000019.html HTTP/1.1</td>\n      <td>/jinkoujixie/7080872220000019.html</td>\n      <td>jinkoujixie</td>\n      <td>详情</td>\n    </tr>\n    <tr>\n      <th>52407</th>\n      <td>223.104.204.99</td>\n      <td>21/Feb/2023:23:59:29 +0800</td>\n      <td>200</td>\n      <td>https://m.baidu.com/</td>\n      <td>GET /instruct/1530.html HTTP/1.1</td>\n      <td>/instruct/1530.html</td>\n      <td>instruct</td>\n      <td>详情</td>\n    </tr>\n    <tr>\n      <th>52408</th>\n      <td>223.104.217.181</td>\n      <td>21/Feb/2023:23:59:30 +0800</td>\n      <td>200</td>\n      <td>https://m.baidu.com/</td>\n      <td>GET /yaocai_bz/6872749390000036.html HTTP/1.1</td>\n      <td>/yaocai_bz/6872749390000036.html</td>\n      <td>yaocai_bz</td>\n      <td>详情</td>\n    </tr>\n    <tr>\n      <th>52409</th>\n      <td>117.152.92.118</td>\n      <td>21/Feb/2023:23:59:40 +0800</td>\n      <td>200</td>\n      <td>https://m.baidu.com/</td>\n      <td>GET /yaocai_bz/6872749740000043.html HTTP/1.1</td>\n      <td>/yaocai_bz/6872749740000043.html</td>\n      <td>yaocai_bz</td>\n      <td>详情</td>\n    </tr>\n    <tr>\n      <th>52410</th>\n      <td>115.227.110.36</td>\n      <td>21/Feb/2023:23:59:45 +0800</td>\n      <td>200</td>\n      <td>https://www.baidu.com/link?url=Hs46Wu8d8nonbDI...</td>\n      <td>GET /jixie/7116235560000035.html HTTP/1.1</td>\n      <td>/jixie/7116235560000035.html</td>\n      <td>jixie</td>\n      <td>详情</td>\n    </tr>\n  </tbody>\n</table>\n<p>52410 rows × 8 columns</p>\n</div>"
     },
     "execution_count": 21,
     "metadata": {},
     "output_type": "execute_result"
    }
   ],
   "source": [
    "log_df"
   ],
   "metadata": {
    "collapsed": false
   }
  },
  {
   "cell_type": "code",
   "execution_count": 22,
   "outputs": [
    {
     "data": {
      "text/plain": "详情    46094\n列表     6316\nName: page_cat, dtype: int64"
     },
     "execution_count": 22,
     "metadata": {},
     "output_type": "execute_result"
    }
   ],
   "source": [
    "log_df['page_cat'].value_counts()"
   ],
   "metadata": {
    "collapsed": false
   }
  },
  {
   "cell_type": "code",
   "execution_count": 31,
   "outputs": [
    {
     "data": {
      "text/plain": "ip           object\ndate         object\nhttp-code    object\nrefer        object\nmethod       object\npath         object\nfirst_dir    object\npage_cat     object\ndtype: object"
     },
     "execution_count": 31,
     "metadata": {},
     "output_type": "execute_result"
    }
   ],
   "source": [
    "log_df.dtypes"
   ],
   "metadata": {
    "collapsed": false
   }
  },
  {
   "cell_type": "code",
   "execution_count": 51,
   "outputs": [
    {
     "data": {
      "text/plain": "       first_dir page_cat\ncount      41094    41094\nunique       141        2\ntop     instruct       详情\nfreq       16726    36912",
      "text/html": "<div>\n<style scoped>\n    .dataframe tbody tr th:only-of-type {\n        vertical-align: middle;\n    }\n\n    .dataframe tbody tr th {\n        vertical-align: top;\n    }\n\n    .dataframe thead th {\n        text-align: right;\n    }\n</style>\n<table border=\"1\" class=\"dataframe\">\n  <thead>\n    <tr style=\"text-align: right;\">\n      <th></th>\n      <th>first_dir</th>\n      <th>page_cat</th>\n    </tr>\n  </thead>\n  <tbody>\n    <tr>\n      <th>count</th>\n      <td>41094</td>\n      <td>41094</td>\n    </tr>\n    <tr>\n      <th>unique</th>\n      <td>141</td>\n      <td>2</td>\n    </tr>\n    <tr>\n      <th>top</th>\n      <td>instruct</td>\n      <td>详情</td>\n    </tr>\n    <tr>\n      <th>freq</th>\n      <td>16726</td>\n      <td>36912</td>\n    </tr>\n  </tbody>\n</table>\n</div>"
     },
     "execution_count": 51,
     "metadata": {},
     "output_type": "execute_result"
    }
   ],
   "source": [
    "log_df[['first_dir', 'page_cat']].describe()"
   ],
   "metadata": {
    "collapsed": false
   }
  },
  {
   "cell_type": "code",
   "execution_count": 61,
   "outputs": [],
   "source": [
    "score = log_df.groupby('first_dir').agg({'page_cat':'unique','path':'count'})"
   ],
   "metadata": {
    "collapsed": false
   }
  },
  {
   "cell_type": "code",
   "execution_count": 62,
   "outputs": [
    {
     "data": {
      "text/plain": "              page_cat  path\nfirst_dir                   \n                  [详情]   169\n.1                [详情]     4\n404.html          [详情]   167\nHome              [详情]     4\nPublic        [列表, 详情]    55\n...                ...   ...\nzhuanti           [详情]     2\nzhuce         [详情, 列表]   347\nzhuce.html        [详情]     1\nzhucebuchong  [详情, 列表]    17\nzhunziblishi      [详情]     1\n\n[141 rows x 2 columns]",
      "text/html": "<div>\n<style scoped>\n    .dataframe tbody tr th:only-of-type {\n        vertical-align: middle;\n    }\n\n    .dataframe tbody tr th {\n        vertical-align: top;\n    }\n\n    .dataframe thead th {\n        text-align: right;\n    }\n</style>\n<table border=\"1\" class=\"dataframe\">\n  <thead>\n    <tr style=\"text-align: right;\">\n      <th></th>\n      <th>page_cat</th>\n      <th>path</th>\n    </tr>\n    <tr>\n      <th>first_dir</th>\n      <th></th>\n      <th></th>\n    </tr>\n  </thead>\n  <tbody>\n    <tr>\n      <th></th>\n      <td>[详情]</td>\n      <td>169</td>\n    </tr>\n    <tr>\n      <th>.1</th>\n      <td>[详情]</td>\n      <td>4</td>\n    </tr>\n    <tr>\n      <th>404.html</th>\n      <td>[详情]</td>\n      <td>167</td>\n    </tr>\n    <tr>\n      <th>Home</th>\n      <td>[详情]</td>\n      <td>4</td>\n    </tr>\n    <tr>\n      <th>Public</th>\n      <td>[列表, 详情]</td>\n      <td>55</td>\n    </tr>\n    <tr>\n      <th>...</th>\n      <td>...</td>\n      <td>...</td>\n    </tr>\n    <tr>\n      <th>zhuanti</th>\n      <td>[详情]</td>\n      <td>2</td>\n    </tr>\n    <tr>\n      <th>zhuce</th>\n      <td>[详情, 列表]</td>\n      <td>347</td>\n    </tr>\n    <tr>\n      <th>zhuce.html</th>\n      <td>[详情]</td>\n      <td>1</td>\n    </tr>\n    <tr>\n      <th>zhucebuchong</th>\n      <td>[详情, 列表]</td>\n      <td>17</td>\n    </tr>\n    <tr>\n      <th>zhunziblishi</th>\n      <td>[详情]</td>\n      <td>1</td>\n    </tr>\n  </tbody>\n</table>\n<p>141 rows × 2 columns</p>\n</div>"
     },
     "execution_count": 62,
     "metadata": {},
     "output_type": "execute_result"
    }
   ],
   "source": [
    "score"
   ],
   "metadata": {
    "collapsed": false
   }
  },
  {
   "cell_type": "code",
   "execution_count": 28,
   "outputs": [],
   "source": [
    "tab = pd.crosstab(log_df['first_dir'],log_df['page_cat'], margins=True)"
   ],
   "metadata": {
    "collapsed": false
   }
  },
  {
   "cell_type": "code",
   "execution_count": 24,
   "outputs": [
    {
     "data": {
      "text/plain": "page_cat        列表     详情    All\nfirst_dir                       \n                 1    557    558\n.1               0      3      3\n404.html         0    172    172\nHome             0     23     23\nIR.html          0      1      1\n...            ...    ...    ...\nzhuce.html       0      2      2\nzhucebuchong     3     19     22\nzhunziblishi     0      1      1\nzyzy             1      0      1\nAll           6316  46094  52410\n\n[155 rows x 3 columns]",
      "text/html": "<div>\n<style scoped>\n    .dataframe tbody tr th:only-of-type {\n        vertical-align: middle;\n    }\n\n    .dataframe tbody tr th {\n        vertical-align: top;\n    }\n\n    .dataframe thead th {\n        text-align: right;\n    }\n</style>\n<table border=\"1\" class=\"dataframe\">\n  <thead>\n    <tr style=\"text-align: right;\">\n      <th>page_cat</th>\n      <th>列表</th>\n      <th>详情</th>\n      <th>All</th>\n    </tr>\n    <tr>\n      <th>first_dir</th>\n      <th></th>\n      <th></th>\n      <th></th>\n    </tr>\n  </thead>\n  <tbody>\n    <tr>\n      <th></th>\n      <td>1</td>\n      <td>557</td>\n      <td>558</td>\n    </tr>\n    <tr>\n      <th>.1</th>\n      <td>0</td>\n      <td>3</td>\n      <td>3</td>\n    </tr>\n    <tr>\n      <th>404.html</th>\n      <td>0</td>\n      <td>172</td>\n      <td>172</td>\n    </tr>\n    <tr>\n      <th>Home</th>\n      <td>0</td>\n      <td>23</td>\n      <td>23</td>\n    </tr>\n    <tr>\n      <th>IR.html</th>\n      <td>0</td>\n      <td>1</td>\n      <td>1</td>\n    </tr>\n    <tr>\n      <th>...</th>\n      <td>...</td>\n      <td>...</td>\n      <td>...</td>\n    </tr>\n    <tr>\n      <th>zhuce.html</th>\n      <td>0</td>\n      <td>2</td>\n      <td>2</td>\n    </tr>\n    <tr>\n      <th>zhucebuchong</th>\n      <td>3</td>\n      <td>19</td>\n      <td>22</td>\n    </tr>\n    <tr>\n      <th>zhunziblishi</th>\n      <td>0</td>\n      <td>1</td>\n      <td>1</td>\n    </tr>\n    <tr>\n      <th>zyzy</th>\n      <td>1</td>\n      <td>0</td>\n      <td>1</td>\n    </tr>\n    <tr>\n      <th>All</th>\n      <td>6316</td>\n      <td>46094</td>\n      <td>52410</td>\n    </tr>\n  </tbody>\n</table>\n<p>155 rows × 3 columns</p>\n</div>"
     },
     "execution_count": 24,
     "metadata": {},
     "output_type": "execute_result"
    }
   ],
   "source": [
    "tab"
   ],
   "metadata": {
    "collapsed": false
   }
  },
  {
   "cell_type": "code",
   "execution_count": 66,
   "outputs": [],
   "source": [
    "import numpy as np"
   ],
   "metadata": {
    "collapsed": false
   }
  },
  {
   "cell_type": "code",
   "execution_count": 31,
   "outputs": [],
   "source": [
    "pts = log_df.pivot_table(index=['first_dir'], columns=['page_cat'], values='ip', aggfunc='count')"
   ],
   "metadata": {
    "collapsed": false
   }
  },
  {
   "cell_type": "code",
   "execution_count": 32,
   "outputs": [
    {
     "data": {
      "text/plain": "page_cat                                                          列表     详情\nfirst_dir    path                                                          \n             /                                                   NaN  557.0\n             /?=yaozh                                            1.0    NaN\n.1           /.1                                                 NaN    3.0\n404.html     /404.html                                           NaN  172.0\nHome         /Home                                               NaN   23.0\n...                                                              ...    ...\nzhucebuchong /zhucebuchong?list_order=me_date%20desc&p=13450...  1.0    NaN\n             /zhucebuchong?p=15357&pageSize=20                   1.0    NaN\n             /zhucebuchong?qysearchcontent=%E9%9B%B7%E5%85%8...  1.0    NaN\nzhunziblishi /zhunziblishi/                                      NaN    1.0\nzyzy         /zyzy?p=3&pageSize=20                               1.0    NaN\n\n[26348 rows x 2 columns]",
      "text/html": "<div>\n<style scoped>\n    .dataframe tbody tr th:only-of-type {\n        vertical-align: middle;\n    }\n\n    .dataframe tbody tr th {\n        vertical-align: top;\n    }\n\n    .dataframe thead th {\n        text-align: right;\n    }\n</style>\n<table border=\"1\" class=\"dataframe\">\n  <thead>\n    <tr style=\"text-align: right;\">\n      <th></th>\n      <th>page_cat</th>\n      <th>列表</th>\n      <th>详情</th>\n    </tr>\n    <tr>\n      <th>first_dir</th>\n      <th>path</th>\n      <th></th>\n      <th></th>\n    </tr>\n  </thead>\n  <tbody>\n    <tr>\n      <th rowspan=\"2\" valign=\"top\"></th>\n      <th>/</th>\n      <td>NaN</td>\n      <td>557.0</td>\n    </tr>\n    <tr>\n      <th>/?=yaozh</th>\n      <td>1.0</td>\n      <td>NaN</td>\n    </tr>\n    <tr>\n      <th>.1</th>\n      <th>/.1</th>\n      <td>NaN</td>\n      <td>3.0</td>\n    </tr>\n    <tr>\n      <th>404.html</th>\n      <th>/404.html</th>\n      <td>NaN</td>\n      <td>172.0</td>\n    </tr>\n    <tr>\n      <th>Home</th>\n      <th>/Home</th>\n      <td>NaN</td>\n      <td>23.0</td>\n    </tr>\n    <tr>\n      <th>...</th>\n      <th>...</th>\n      <td>...</td>\n      <td>...</td>\n    </tr>\n    <tr>\n      <th rowspan=\"3\" valign=\"top\">zhucebuchong</th>\n      <th>/zhucebuchong?list_order=me_date%20desc&amp;p=13450&amp;pageSize=20</th>\n      <td>1.0</td>\n      <td>NaN</td>\n    </tr>\n    <tr>\n      <th>/zhucebuchong?p=15357&amp;pageSize=20</th>\n      <td>1.0</td>\n      <td>NaN</td>\n    </tr>\n    <tr>\n      <th>/zhucebuchong?qysearchcontent=%E9%9B%B7%E5%85%81%E4%B8%8A</th>\n      <td>1.0</td>\n      <td>NaN</td>\n    </tr>\n    <tr>\n      <th>zhunziblishi</th>\n      <th>/zhunziblishi/</th>\n      <td>NaN</td>\n      <td>1.0</td>\n    </tr>\n    <tr>\n      <th>zyzy</th>\n      <th>/zyzy?p=3&amp;pageSize=20</th>\n      <td>1.0</td>\n      <td>NaN</td>\n    </tr>\n  </tbody>\n</table>\n<p>26348 rows × 2 columns</p>\n</div>"
     },
     "execution_count": 32,
     "metadata": {},
     "output_type": "execute_result"
    }
   ],
   "source": [
    "pts"
   ],
   "metadata": {
    "collapsed": false
   }
  },
  {
   "cell_type": "code",
   "execution_count": null,
   "outputs": [],
   "source": [],
   "metadata": {
    "collapsed": false
   }
  }
 ],
 "metadata": {
  "kernelspec": {
   "display_name": "Python 3",
   "language": "python",
   "name": "python3"
  },
  "language_info": {
   "codemirror_mode": {
    "name": "ipython",
    "version": 2
   },
   "file_extension": ".py",
   "mimetype": "text/x-python",
   "name": "python",
   "nbconvert_exporter": "python",
   "pygments_lexer": "ipython2",
   "version": "2.7.6"
  }
 },
 "nbformat": 4,
 "nbformat_minor": 0
}
